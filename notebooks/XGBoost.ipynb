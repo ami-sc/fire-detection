{
 "cells": [
  {
   "attachments": {},
   "cell_type": "markdown",
   "metadata": {},
   "source": [
    "***\n",
    "\n",
    "**XGBoost - Model**\n",
    "\n",
    "The following notebook contains an example XGBoost model that uses PCA features.\n",
    "\n",
    "***\n",
    "\n",
    "- **Required Libraries:**"
   ]
  },
  {
   "cell_type": "code",
   "execution_count": 1,
   "metadata": {},
   "outputs": [],
   "source": [
    "import pandas as pd\n",
    "import xgboost as xgb\n",
    "\n",
    "from sklearn.metrics import accuracy_score\n",
    "from sklearn.model_selection import train_test_split\n",
    "from sklearn.metrics import confusion_matrix, ConfusionMatrixDisplay\n",
    "\n",
    "import matplotlib.pyplot as plt"
   ]
  },
  {
   "cell_type": "code",
   "execution_count": 2,
   "metadata": {},
   "outputs": [
    {
     "data": {
      "text/html": [
       "<div>\n",
       "<style scoped>\n",
       "    .dataframe tbody tr th:only-of-type {\n",
       "        vertical-align: middle;\n",
       "    }\n",
       "\n",
       "    .dataframe tbody tr th {\n",
       "        vertical-align: top;\n",
       "    }\n",
       "\n",
       "    .dataframe thead th {\n",
       "        text-align: right;\n",
       "    }\n",
       "</style>\n",
       "<table border=\"1\" class=\"dataframe\">\n",
       "  <thead>\n",
       "    <tr style=\"text-align: right;\">\n",
       "      <th></th>\n",
       "      <th>0</th>\n",
       "      <th>1</th>\n",
       "      <th>2</th>\n",
       "      <th>3</th>\n",
       "      <th>4</th>\n",
       "      <th>5</th>\n",
       "      <th>6</th>\n",
       "      <th>7</th>\n",
       "      <th>8</th>\n",
       "      <th>Label</th>\n",
       "    </tr>\n",
       "  </thead>\n",
       "  <tbody>\n",
       "    <tr>\n",
       "      <th>0</th>\n",
       "      <td>0.714569</td>\n",
       "      <td>0.663124</td>\n",
       "      <td>0.222841</td>\n",
       "      <td>0.612413</td>\n",
       "      <td>-0.438989</td>\n",
       "      <td>-0.657449</td>\n",
       "      <td>0.338145</td>\n",
       "      <td>-0.606263</td>\n",
       "      <td>0.719794</td>\n",
       "      <td>1.0</td>\n",
       "    </tr>\n",
       "    <tr>\n",
       "      <th>1</th>\n",
       "      <td>-0.723288</td>\n",
       "      <td>-0.510638</td>\n",
       "      <td>0.464869</td>\n",
       "      <td>-0.624720</td>\n",
       "      <td>0.197015</td>\n",
       "      <td>-0.755586</td>\n",
       "      <td>-0.294245</td>\n",
       "      <td>0.836919</td>\n",
       "      <td>0.461504</td>\n",
       "      <td>1.0</td>\n",
       "    </tr>\n",
       "    <tr>\n",
       "      <th>2</th>\n",
       "      <td>-0.778726</td>\n",
       "      <td>-0.558944</td>\n",
       "      <td>0.284900</td>\n",
       "      <td>-0.603591</td>\n",
       "      <td>0.543677</td>\n",
       "      <td>-0.583176</td>\n",
       "      <td>-0.171069</td>\n",
       "      <td>0.626097</td>\n",
       "      <td>0.760748</td>\n",
       "      <td>1.0</td>\n",
       "    </tr>\n",
       "    <tr>\n",
       "      <th>3</th>\n",
       "      <td>-0.521176</td>\n",
       "      <td>-0.720748</td>\n",
       "      <td>0.457054</td>\n",
       "      <td>-0.588013</td>\n",
       "      <td>-0.084896</td>\n",
       "      <td>-0.804384</td>\n",
       "      <td>-0.618560</td>\n",
       "      <td>0.687979</td>\n",
       "      <td>0.379564</td>\n",
       "      <td>1.0</td>\n",
       "    </tr>\n",
       "    <tr>\n",
       "      <th>4</th>\n",
       "      <td>-0.811704</td>\n",
       "      <td>-0.508418</td>\n",
       "      <td>0.287487</td>\n",
       "      <td>-0.526766</td>\n",
       "      <td>0.424624</td>\n",
       "      <td>-0.736351</td>\n",
       "      <td>-0.252300</td>\n",
       "      <td>0.749137</td>\n",
       "      <td>0.612486</td>\n",
       "      <td>1.0</td>\n",
       "    </tr>\n",
       "    <tr>\n",
       "      <th>...</th>\n",
       "      <td>...</td>\n",
       "      <td>...</td>\n",
       "      <td>...</td>\n",
       "      <td>...</td>\n",
       "      <td>...</td>\n",
       "      <td>...</td>\n",
       "      <td>...</td>\n",
       "      <td>...</td>\n",
       "      <td>...</td>\n",
       "      <td>...</td>\n",
       "    </tr>\n",
       "    <tr>\n",
       "      <th>994</th>\n",
       "      <td>-0.789671</td>\n",
       "      <td>-0.530566</td>\n",
       "      <td>0.308090</td>\n",
       "      <td>-0.581168</td>\n",
       "      <td>0.485931</td>\n",
       "      <td>-0.652775</td>\n",
       "      <td>-0.196630</td>\n",
       "      <td>0.694529</td>\n",
       "      <td>0.692074</td>\n",
       "      <td>1.0</td>\n",
       "    </tr>\n",
       "    <tr>\n",
       "      <th>995</th>\n",
       "      <td>-0.723836</td>\n",
       "      <td>-0.617487</td>\n",
       "      <td>0.307848</td>\n",
       "      <td>-0.567410</td>\n",
       "      <td>0.278870</td>\n",
       "      <td>-0.774776</td>\n",
       "      <td>-0.392564</td>\n",
       "      <td>0.735487</td>\n",
       "      <td>0.552225</td>\n",
       "      <td>1.0</td>\n",
       "    </tr>\n",
       "    <tr>\n",
       "      <th>996</th>\n",
       "      <td>-0.511714</td>\n",
       "      <td>-0.778784</td>\n",
       "      <td>0.362828</td>\n",
       "      <td>-0.580736</td>\n",
       "      <td>0.002307</td>\n",
       "      <td>-0.814088</td>\n",
       "      <td>-0.633162</td>\n",
       "      <td>0.627288</td>\n",
       "      <td>0.453449</td>\n",
       "      <td>1.0</td>\n",
       "    </tr>\n",
       "    <tr>\n",
       "      <th>997</th>\n",
       "      <td>-0.888274</td>\n",
       "      <td>-0.428623</td>\n",
       "      <td>0.165084</td>\n",
       "      <td>-0.452631</td>\n",
       "      <td>0.755764</td>\n",
       "      <td>-0.473230</td>\n",
       "      <td>-0.078073</td>\n",
       "      <td>0.495080</td>\n",
       "      <td>0.865333</td>\n",
       "      <td>1.0</td>\n",
       "    </tr>\n",
       "    <tr>\n",
       "      <th>998</th>\n",
       "      <td>0.559478</td>\n",
       "      <td>0.051055</td>\n",
       "      <td>0.827271</td>\n",
       "      <td>0.583151</td>\n",
       "      <td>-0.733523</td>\n",
       "      <td>-0.349112</td>\n",
       "      <td>0.588999</td>\n",
       "      <td>0.677744</td>\n",
       "      <td>-0.440163</td>\n",
       "      <td>0.0</td>\n",
       "    </tr>\n",
       "  </tbody>\n",
       "</table>\n",
       "<p>999 rows × 10 columns</p>\n",
       "</div>"
      ],
      "text/plain": [
       "            0         1         2         3         4         5         6   \n",
       "0    0.714569  0.663124  0.222841  0.612413 -0.438989 -0.657449  0.338145  \\\n",
       "1   -0.723288 -0.510638  0.464869 -0.624720  0.197015 -0.755586 -0.294245   \n",
       "2   -0.778726 -0.558944  0.284900 -0.603591  0.543677 -0.583176 -0.171069   \n",
       "3   -0.521176 -0.720748  0.457054 -0.588013 -0.084896 -0.804384 -0.618560   \n",
       "4   -0.811704 -0.508418  0.287487 -0.526766  0.424624 -0.736351 -0.252300   \n",
       "..        ...       ...       ...       ...       ...       ...       ...   \n",
       "994 -0.789671 -0.530566  0.308090 -0.581168  0.485931 -0.652775 -0.196630   \n",
       "995 -0.723836 -0.617487  0.307848 -0.567410  0.278870 -0.774776 -0.392564   \n",
       "996 -0.511714 -0.778784  0.362828 -0.580736  0.002307 -0.814088 -0.633162   \n",
       "997 -0.888274 -0.428623  0.165084 -0.452631  0.755764 -0.473230 -0.078073   \n",
       "998  0.559478  0.051055  0.827271  0.583151 -0.733523 -0.349112  0.588999   \n",
       "\n",
       "            7         8  Label  \n",
       "0   -0.606263  0.719794    1.0  \n",
       "1    0.836919  0.461504    1.0  \n",
       "2    0.626097  0.760748    1.0  \n",
       "3    0.687979  0.379564    1.0  \n",
       "4    0.749137  0.612486    1.0  \n",
       "..        ...       ...    ...  \n",
       "994  0.694529  0.692074    1.0  \n",
       "995  0.735487  0.552225    1.0  \n",
       "996  0.627288  0.453449    1.0  \n",
       "997  0.495080  0.865333    1.0  \n",
       "998  0.677744 -0.440163    0.0  \n",
       "\n",
       "[999 rows x 10 columns]"
      ]
     },
     "execution_count": 2,
     "metadata": {},
     "output_type": "execute_result"
    }
   ],
   "source": [
    "# Load our feature dataset.\n",
    "features = pd.read_csv(\"../data/PCA_Features.csv\")\n",
    "features"
   ]
  },
  {
   "cell_type": "code",
   "execution_count": 3,
   "metadata": {},
   "outputs": [],
   "source": [
    "# Separate data into predictors (X) and label (y).\n",
    "X = features.drop([\"Label\"], axis = 1)\n",
    "y = features[\"Label\"]\n",
    "\n",
    "# Split data into training and testing sets.\n",
    "X_train, X_test, y_train, y_test = train_test_split(X, y, train_size = 0.8, random_state = 226)"
   ]
  },
  {
   "cell_type": "code",
   "execution_count": 4,
   "metadata": {},
   "outputs": [],
   "source": [
    "# Convert sets into DMatrices (required by XGBoost).\n",
    "d_train = xgb.DMatrix(X_train, label = y_train)\n",
    "d_test = xgb.DMatrix(X_test, label = y_test)"
   ]
  },
  {
   "attachments": {},
   "cell_type": "markdown",
   "metadata": {},
   "source": [
    "- The following dictionary contains the default hyperparameters for XGBoost.\n",
    "  - `\"objective\": \"binary:hinge\"` tells XGBoost we are doing binary classification.\n",
    "  - `\"eval_metric\": \"mae\"` means we are using the Mean Absolute Error (MAE) as an evaluation metric."
   ]
  },
  {
   "cell_type": "code",
   "execution_count": 5,
   "metadata": {},
   "outputs": [],
   "source": [
    "parameters = {\n",
    "\n",
    "    # Parameters for Tree Booster\n",
    "    \"max_depth\": 6,\n",
    "    \"min_child_weight\": 1,\n",
    "    \"eta\": 0.3,\n",
    "    \"subsample\": 1.0,\n",
    "    \"colsample_bytree\": 1.0,\n",
    "\n",
    "    # Learning Task Parameters\n",
    "    \"objective\": \"binary:hinge\",\n",
    "    \"eval_metric\": \"mae\"\n",
    "}"
   ]
  },
  {
   "cell_type": "code",
   "execution_count": 6,
   "metadata": {},
   "outputs": [],
   "source": [
    "# Train a model with the training set and the default parameter dictionary.\n",
    "model = xgb.train(parameters, d_train, num_boost_round = 100)"
   ]
  },
  {
   "cell_type": "code",
   "execution_count": 7,
   "metadata": {},
   "outputs": [],
   "source": [
    "# Use model to make a prediction of the testing set.\n",
    "y_pred = model.predict(d_test)"
   ]
  },
  {
   "cell_type": "code",
   "execution_count": 8,
   "metadata": {},
   "outputs": [
    {
     "data": {
      "text/plain": [
       "92.5"
      ]
     },
     "execution_count": 8,
     "metadata": {},
     "output_type": "execute_result"
    }
   ],
   "source": [
    "# Get the accuracy score of our prediction.\n",
    "accuracy_score(y_pred, y_test) * 100"
   ]
  },
  {
   "cell_type": "code",
   "execution_count": 9,
   "metadata": {},
   "outputs": [
    {
     "data": {
      "image/png": "[encoded data removed]",
      "text/plain": [
       "<Figure size 640x480 with 2 Axes>"
      ]
     },
     "metadata": {},
     "output_type": "display_data"
    }
   ],
   "source": [
    "# Plot a confusion matrix of the prediction.\n",
    "conf_matrix = confusion_matrix(y_test, y_pred)\n",
    "cofn_plt = ConfusionMatrixDisplay(confusion_matrix = conf_matrix)\n",
    "cofn_plt.plot()\n",
    "plt.show()"
   ]
  }
 ],
 "metadata": {
  "kernelspec": {
   "display_name": "Fire_Detection",
   "language": "python",
   "name": "python3"
  },
  "language_info": {
   "codemirror_mode": {
    "name": "ipython",
    "version": 3
   },
   "file_extension": ".py",
   "mimetype": "text/x-python",
   "name": "python",
   "nbconvert_exporter": "python",
   "pygments_lexer": "ipython3",
   "version": "3.11.3"
  },
  "orig_nbformat": 4
 },
 "nbformat": 4,
 "nbformat_minor": 2
}
