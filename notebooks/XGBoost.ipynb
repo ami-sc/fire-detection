{
 "cells": [
  {
   "attachments": {},
   "cell_type": "markdown",
   "metadata": {},
   "source": [
    "***\n",
    "\n",
    "**XGBoost - Model**\n",
    "\n",
    "The following notebook contains an example XGBoost model that uses PCA features.\n",
    "\n",
    "***\n",
    "\n",
    "- **Required Libraries:**"
   ]
  },
  {
   "cell_type": "code",
   "execution_count": 1,
   "metadata": {},
   "outputs": [],
   "source": [
    "import pandas as pd\n",
    "import xgboost as xgb\n",
    "\n",
    "from sklearn.metrics import accuracy_score\n",
    "from sklearn.model_selection import train_test_split\n",
    "from sklearn.metrics import confusion_matrix, ConfusionMatrixDisplay\n",
    "\n",
    "import matplotlib.pyplot as plt"
   ]
  },
  {
   "cell_type": "code",
   "execution_count": 2,
   "metadata": {},
   "outputs": [
    {
     "data": {
      "text/html": [
       "<div>\n",
       "<style scoped>\n",
       "    .dataframe tbody tr th:only-of-type {\n",
       "        vertical-align: middle;\n",
       "    }\n",
       "\n",
       "    .dataframe tbody tr th {\n",
       "        vertical-align: top;\n",
       "    }\n",
       "\n",
       "    .dataframe thead th {\n",
       "        text-align: right;\n",
       "    }\n",
       "</style>\n",
       "<table border=\"1\" class=\"dataframe\">\n",
       "  <thead>\n",
       "    <tr style=\"text-align: right;\">\n",
       "      <th></th>\n",
       "      <th>0</th>\n",
       "      <th>1</th>\n",
       "      <th>2</th>\n",
       "      <th>3</th>\n",
       "      <th>4</th>\n",
       "      <th>5</th>\n",
       "      <th>6</th>\n",
       "      <th>7</th>\n",
       "      <th>8</th>\n",
       "      <th>Label</th>\n",
       "    </tr>\n",
       "  </thead>\n",
       "  <tbody>\n",
       "    <tr>\n",
       "      <th>0</th>\n",
       "      <td>0.654454</td>\n",
       "      <td>-0.099824</td>\n",
       "      <td>0.749483</td>\n",
       "      <td>0.676999</td>\n",
       "      <td>-0.364040</td>\n",
       "      <td>-0.639647</td>\n",
       "      <td>0.336693</td>\n",
       "      <td>0.926019</td>\n",
       "      <td>-0.170667</td>\n",
       "      <td>0.0</td>\n",
       "    </tr>\n",
       "    <tr>\n",
       "      <th>1</th>\n",
       "      <td>-0.562398</td>\n",
       "      <td>-0.715807</td>\n",
       "      <td>0.413918</td>\n",
       "      <td>-0.625886</td>\n",
       "      <td>0.041396</td>\n",
       "      <td>-0.778815</td>\n",
       "      <td>-0.540347</td>\n",
       "      <td>0.697070</td>\n",
       "      <td>0.471294</td>\n",
       "      <td>0.0</td>\n",
       "    </tr>\n",
       "    <tr>\n",
       "      <th>2</th>\n",
       "      <td>-0.592244</td>\n",
       "      <td>-0.666728</td>\n",
       "      <td>0.452460</td>\n",
       "      <td>-0.648727</td>\n",
       "      <td>0.061493</td>\n",
       "      <td>-0.758533</td>\n",
       "      <td>-0.477912</td>\n",
       "      <td>0.742760</td>\n",
       "      <td>0.468943</td>\n",
       "      <td>1.0</td>\n",
       "    </tr>\n",
       "    <tr>\n",
       "      <th>3</th>\n",
       "      <td>-0.551164</td>\n",
       "      <td>-0.738807</td>\n",
       "      <td>0.387792</td>\n",
       "      <td>-0.602412</td>\n",
       "      <td>0.030763</td>\n",
       "      <td>-0.797592</td>\n",
       "      <td>-0.577337</td>\n",
       "      <td>0.673215</td>\n",
       "      <td>0.462022</td>\n",
       "      <td>1.0</td>\n",
       "    </tr>\n",
       "    <tr>\n",
       "      <th>4</th>\n",
       "      <td>-0.762062</td>\n",
       "      <td>-0.539914</td>\n",
       "      <td>0.357428</td>\n",
       "      <td>-0.511812</td>\n",
       "      <td>0.164145</td>\n",
       "      <td>-0.843270</td>\n",
       "      <td>-0.396624</td>\n",
       "      <td>0.825560</td>\n",
       "      <td>0.401423</td>\n",
       "      <td>1.0</td>\n",
       "    </tr>\n",
       "    <tr>\n",
       "      <th>...</th>\n",
       "      <td>...</td>\n",
       "      <td>...</td>\n",
       "      <td>...</td>\n",
       "      <td>...</td>\n",
       "      <td>...</td>\n",
       "      <td>...</td>\n",
       "      <td>...</td>\n",
       "      <td>...</td>\n",
       "      <td>...</td>\n",
       "      <td>...</td>\n",
       "    </tr>\n",
       "    <tr>\n",
       "      <th>992</th>\n",
       "      <td>0.791593</td>\n",
       "      <td>0.599121</td>\n",
       "      <td>0.120140</td>\n",
       "      <td>0.450649</td>\n",
       "      <td>-0.439625</td>\n",
       "      <td>-0.776946</td>\n",
       "      <td>0.412668</td>\n",
       "      <td>-0.669167</td>\n",
       "      <td>0.617997</td>\n",
       "      <td>1.0</td>\n",
       "    </tr>\n",
       "    <tr>\n",
       "      <th>993</th>\n",
       "      <td>0.773551</td>\n",
       "      <td>0.572184</td>\n",
       "      <td>0.272442</td>\n",
       "      <td>0.518675</td>\n",
       "      <td>-0.324604</td>\n",
       "      <td>-0.790954</td>\n",
       "      <td>0.364135</td>\n",
       "      <td>-0.753152</td>\n",
       "      <td>0.547876</td>\n",
       "      <td>1.0</td>\n",
       "    </tr>\n",
       "    <tr>\n",
       "      <th>994</th>\n",
       "      <td>-0.902531</td>\n",
       "      <td>-0.346831</td>\n",
       "      <td>0.255239</td>\n",
       "      <td>-0.375057</td>\n",
       "      <td>0.341869</td>\n",
       "      <td>-0.861660</td>\n",
       "      <td>-0.211592</td>\n",
       "      <td>0.873404</td>\n",
       "      <td>0.438628</td>\n",
       "      <td>1.0</td>\n",
       "    </tr>\n",
       "    <tr>\n",
       "      <th>995</th>\n",
       "      <td>-0.827475</td>\n",
       "      <td>-0.462166</td>\n",
       "      <td>0.318885</td>\n",
       "      <td>-0.535700</td>\n",
       "      <td>0.479613</td>\n",
       "      <td>-0.694979</td>\n",
       "      <td>-0.168255</td>\n",
       "      <td>0.745905</td>\n",
       "      <td>0.644450</td>\n",
       "      <td>1.0</td>\n",
       "    </tr>\n",
       "    <tr>\n",
       "      <th>996</th>\n",
       "      <td>-0.574451</td>\n",
       "      <td>-0.728900</td>\n",
       "      <td>0.372438</td>\n",
       "      <td>-0.596840</td>\n",
       "      <td>0.061611</td>\n",
       "      <td>-0.799992</td>\n",
       "      <td>-0.560168</td>\n",
       "      <td>0.681842</td>\n",
       "      <td>0.470429</td>\n",
       "      <td>1.0</td>\n",
       "    </tr>\n",
       "  </tbody>\n",
       "</table>\n",
       "<p>997 rows × 10 columns</p>\n",
       "</div>"
      ],
      "text/plain": [
       "            0         1         2         3         4         5         6   \n",
       "0    0.654454 -0.099824  0.749483  0.676999 -0.364040 -0.639647  0.336693  \\\n",
       "1   -0.562398 -0.715807  0.413918 -0.625886  0.041396 -0.778815 -0.540347   \n",
       "2   -0.592244 -0.666728  0.452460 -0.648727  0.061493 -0.758533 -0.477912   \n",
       "3   -0.551164 -0.738807  0.387792 -0.602412  0.030763 -0.797592 -0.577337   \n",
       "4   -0.762062 -0.539914  0.357428 -0.511812  0.164145 -0.843270 -0.396624   \n",
       "..        ...       ...       ...       ...       ...       ...       ...   \n",
       "992  0.791593  0.599121  0.120140  0.450649 -0.439625 -0.776946  0.412668   \n",
       "993  0.773551  0.572184  0.272442  0.518675 -0.324604 -0.790954  0.364135   \n",
       "994 -0.902531 -0.346831  0.255239 -0.375057  0.341869 -0.861660 -0.211592   \n",
       "995 -0.827475 -0.462166  0.318885 -0.535700  0.479613 -0.694979 -0.168255   \n",
       "996 -0.574451 -0.728900  0.372438 -0.596840  0.061611 -0.799992 -0.560168   \n",
       "\n",
       "            7         8  Label  \n",
       "0    0.926019 -0.170667    0.0  \n",
       "1    0.697070  0.471294    0.0  \n",
       "2    0.742760  0.468943    1.0  \n",
       "3    0.673215  0.462022    1.0  \n",
       "4    0.825560  0.401423    1.0  \n",
       "..        ...       ...    ...  \n",
       "992 -0.669167  0.617997    1.0  \n",
       "993 -0.753152  0.547876    1.0  \n",
       "994  0.873404  0.438628    1.0  \n",
       "995  0.745905  0.644450    1.0  \n",
       "996  0.681842  0.470429    1.0  \n",
       "\n",
       "[997 rows x 10 columns]"
      ]
     },
     "execution_count": 2,
     "metadata": {},
     "output_type": "execute_result"
    }
   ],
   "source": [
    "# Load our feature dataset.\n",
    "features = pd.read_csv(\"../data/PCA_Features.csv\")\n",
    "features"
   ]
  },
  {
   "cell_type": "code",
   "execution_count": 3,
   "metadata": {},
   "outputs": [],
   "source": [
    "# Separate data into predictors (X) and label (y).\n",
    "X = features.drop([\"Label\"], axis = 1)\n",
    "y = features[\"Label\"]\n",
    "\n",
    "# Split data into training and testing sets.\n",
    "X_train, X_test, y_train, y_test = train_test_split(X, y, train_size = 0.8, random_state = 226)"
   ]
  },
  {
   "cell_type": "code",
   "execution_count": 4,
   "metadata": {},
   "outputs": [],
   "source": [
    "# Convert sets into DMatrices (required by XGBoost).\n",
    "d_train = xgb.DMatrix(X_train, label = y_train)\n",
    "d_test = xgb.DMatrix(X_test, label = y_test)"
   ]
  },
  {
   "attachments": {},
   "cell_type": "markdown",
   "metadata": {},
   "source": [
    "- The following dictionary contains the default hyperparameters for XGBoost.\n",
    "  - `\"objective\": \"binary:hinge\"` tells XGBoost we are doing binary classification.\n",
    "  - `\"eval_metric\": \"mae\"` means we are using the Mean Absolute Error (MAE) as an evaluation metric."
   ]
  },
  {
   "cell_type": "code",
   "execution_count": 5,
   "metadata": {},
   "outputs": [],
   "source": [
    "parameters = {\n",
    "\n",
    "    # Parameters for Tree Booster\n",
    "    \"max_depth\": 6,\n",
    "    \"min_child_weight\": 1,\n",
    "    \"eta\": 0.3,\n",
    "    \"subsample\": 1.0,\n",
    "    \"colsample_bytree\": 1.0,\n",
    "\n",
    "    # Learning Task Parameters\n",
    "    \"objective\": \"binary:hinge\",\n",
    "    \"eval_metric\": \"mae\"\n",
    "}"
   ]
  },
  {
   "cell_type": "code",
   "execution_count": 6,
   "metadata": {},
   "outputs": [],
   "source": [
    "# Train a model with the training set and the default parameter dictionary.\n",
    "model = xgb.train(parameters, d_train, num_boost_round = 100)"
   ]
  },
  {
   "cell_type": "code",
   "execution_count": 7,
   "metadata": {},
   "outputs": [],
   "source": [
    "# Use model to make a prediction of the testing set.\n",
    "y_pred = model.predict(d_test)"
   ]
  },
  {
   "cell_type": "code",
   "execution_count": 8,
   "metadata": {},
   "outputs": [
    {
     "data": {
      "text/plain": [
       "92.0"
      ]
     },
     "execution_count": 8,
     "metadata": {},
     "output_type": "execute_result"
    }
   ],
   "source": [
    "# Get the accuracy score of our prediction.\n",
    "accuracy_score(y_pred, y_test) * 100"
   ]
  },
  {
   "cell_type": "code",
   "execution_count": 9,
   "metadata": {},
   "outputs": [
    {
     "data": {
      "image/png": "[encoded data removed]",
      "text/plain": [
       "<Figure size 640x480 with 2 Axes>"
      ]
     },
     "metadata": {},
     "output_type": "display_data"
    }
   ],
   "source": [
    "# Plot a confusion matrix of the prediction.\n",
    "conf_matrix = confusion_matrix(y_test, y_pred)\n",
    "cofn_plt = ConfusionMatrixDisplay(confusion_matrix = conf_matrix)\n",
    "cofn_plt.plot()\n",
    "plt.show()"
   ]
  }
 ],
 "metadata": {
  "kernelspec": {
   "display_name": "Fire_Detection",
   "language": "python",
   "name": "python3"
  },
  "language_info": {
   "codemirror_mode": {
    "name": "ipython",
    "version": 3
   },
   "file_extension": ".py",
   "mimetype": "text/x-python",
   "name": "python",
   "nbconvert_exporter": "python",
   "pygments_lexer": "ipython3",
   "version": "3.11.3"
  },
  "orig_nbformat": 4
 },
 "nbformat": 4,
 "nbformat_minor": 2
}
