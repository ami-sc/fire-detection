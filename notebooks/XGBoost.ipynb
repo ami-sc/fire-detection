{
 "cells": [
  {
   "attachments": {},
   "cell_type": "markdown",
   "metadata": {},
   "source": [
    "# XGBoost Model\n",
    "## Fire Detection\n",
    "\n",
    "***\n",
    "\n",
    "The following notebook contains code for training, tuning, and testing an XGBoost model trained on Wavelet Features from *fire* and *non-fire* images."
   ]
  },
  {
   "cell_type": "markdown",
   "metadata": {},
   "source": [
    "***\n",
    "## Library Import\n",
    "\n",
    "Import required libraries."
   ]
  },
  {
   "cell_type": "code",
   "execution_count": 19,
   "metadata": {},
   "outputs": [],
   "source": [
    "import numpy as np\n",
    "import xgboost as xgb\n",
    "\n",
    "from bayes_opt import BayesianOptimization\n",
    "\n",
    "from sklearn.metrics import accuracy_score\n",
    "from sklearn.model_selection import train_test_split\n",
    "from sklearn.metrics import confusion_matrix, ConfusionMatrixDisplay\n",
    "\n",
    "import matplotlib.pyplot as plt"
   ]
  },
  {
   "cell_type": "markdown",
   "metadata": {},
   "source": [
    "***\n",
    "## Data Import\n",
    "\n",
    "Load the wavelet features for each dataset."
   ]
  },
  {
   "cell_type": "code",
   "execution_count": 20,
   "metadata": {},
   "outputs": [
    {
     "data": {
      "text/plain": [
       "(4507, 55)"
      ]
     },
     "execution_count": 20,
     "metadata": {},
     "output_type": "execute_result"
    }
   ],
   "source": [
    "# Load the Wavelet Features.\n",
    "wav_01 = np.loadtxt(\"../data/processed/WAV__effective_forest_fire_detection.csv\", delimiter=\",\", dtype=np.float32)\n",
    "wav_02 = np.loadtxt(\"../data/processed/WAV__fire_dataset.csv\", delimiter=\",\", dtype=np.float32)\n",
    "\n",
    "# Combine both files into a single matrix.\n",
    "wav_ft = np.vstack([wav_01, wav_02])\n",
    "wav_ft.shape"
   ]
  },
  {
   "cell_type": "markdown",
   "metadata": {},
   "source": [
    "***\n",
    "## Dataset Split\n",
    "\n",
    "Split the dataset into a Training (60%), Testing (20%), and Validation (20%) datasets."
   ]
  },
  {
   "cell_type": "code",
   "execution_count": 21,
   "metadata": {},
   "outputs": [],
   "source": [
    "# Separate data into predictors (X) and label (y).\n",
    "X = wav_ft[:, :-1]\n",
    "y = wav_ft[:, -1]\n",
    "\n",
    "# Split data into training and testing sets.\n",
    "X_train, X_test, y_train, y_test = train_test_split(X, y, train_size=0.6, random_state = 226)\n",
    "\n",
    "# Split into validation set.\n",
    "X_train, X_val, y_train, y_val = train_test_split(X_train, y_train, test_size=0.25, random_state = 226)"
   ]
  },
  {
   "cell_type": "code",
   "execution_count": 22,
   "metadata": {},
   "outputs": [],
   "source": [
    "# Convert sets into DMatrices (required by XGBoost).\n",
    "d_train = xgb.DMatrix(X_train, label = y_train, enable_categorical = False)\n",
    "d_val = xgb.DMatrix(X_val, label = y_val, enable_categorical = False)\n",
    "d_test = xgb.DMatrix(X_test, enable_categorical = False)"
   ]
  },
  {
   "cell_type": "markdown",
   "metadata": {},
   "source": [
    "***\n",
    "## Hyperparameter Tuning\n",
    "\n",
    "The following dictionary contains the default hyperparameters for XGBoost.\n",
    "- `\"objective\": \"binary:logistic\"` tells XGBoost we are doing binary classification.\n",
    "- `\"eval_metric\": \"logloss\"` is the evaluation metric."
   ]
  },
  {
   "cell_type": "code",
   "execution_count": 23,
   "metadata": {},
   "outputs": [],
   "source": [
    "parameters = {\n",
    "    # Parameters for Tree Booster\n",
    "    \"max_depth\": 6,\n",
    "    \"min_child_weight\": 1,\n",
    "    \"eta\": 0.3,\n",
    "    \"subsample\": 0.5,\n",
    "    \"colsample_bytree\": 0.1,\n",
    "    \"reg_lambda\": 0,\n",
    "    \"reg_alpha\": 1,\n",
    "    \"min_split_loss\": 0,\n",
    "\n",
    "    # Learning Task Parameters\n",
    "    \"objective\": \"binary:logistic\",\n",
    "    \"eval_metric\": \"logloss\"\n",
    "}\n",
    "\n",
    "# Bounds for Bayesian Optimization.\n",
    "bo_bounds = {\n",
    "    \"max_depth\": (1, 250),\n",
    "    \"min_child_weight\": (1, 250),\n",
    "    \"colsample_bytree\": (0, 1),\n",
    "    \"alpha_vals\": (0, 500),\n",
    "    \"lambda_vals\": (0, 1),\n",
    "    \"gamma_vals\": (0, 100),\n",
    "    \"eta\": (0.2, 0.6)\n",
    "}"
   ]
  },
  {
   "attachments": {},
   "cell_type": "markdown",
   "metadata": {},
   "source": [
    "The following is a helper function for tuning the model. It will update the parameter dictionary and train a model with the target parameters, returning the loss for the training."
   ]
  },
  {
   "cell_type": "code",
   "execution_count": 24,
   "metadata": {},
   "outputs": [],
   "source": [
    "def bo_tune(max_depth, min_child_weight, colsample_bytree,\n",
    "            alpha_vals, lambda_vals, gamma_vals,\n",
    "            eta):\n",
    "\n",
    "    parameters[\"max_depth\"] = int(max_depth)\n",
    "    parameters[\"min_child_weight\"] = int(min_child_weight)\n",
    "    parameters[\"colsample_bytree\"] = colsample_bytree\n",
    "    parameters[\"reg_alpha\"] = alpha_vals\n",
    "    parameters[\"reg_lambda\"] = lambda_vals\n",
    "    parameters[\"min_split_loss\"] = gamma_vals\n",
    "    parameters[\"eta\"] = eta\n",
    "\n",
    "    test_performance = {}\n",
    "\n",
    "    xgb.train(\n",
    "        parameters,\n",
    "        d_train,\n",
    "        num_boost_round=999,\n",
    "        evals=[(d_val, \"BO_Val\")],\n",
    "        evals_result=test_performance,\n",
    "        early_stopping_rounds=20,\n",
    "        verbose_eval=False,\n",
    "    )\n",
    "\n",
    "    test_mae = min(test_performance[\"BO_Val\"][\"logloss\"])\n",
    "\n",
    "    # Retrieve the negative loss from the test.\n",
    "    return test_mae * -1.0"
   ]
  },
  {
   "cell_type": "markdown",
   "metadata": {},
   "source": [
    "Now, we can tune the model's hyperparameters using Bayesian Optimization. Every time, a new model is trained with a different parameter combination. We try to maximize the negative logloss."
   ]
  },
  {
   "cell_type": "code",
   "execution_count": 25,
   "metadata": {},
   "outputs": [
    {
     "name": "stdout",
     "output_type": "stream",
     "text": [
      "|   iter    |  target   | alpha_... | colsam... |    eta    | gamma_... | lambda... | max_depth | min_ch... |\n",
      "-------------------------------------------------------------------------------------------------------------\n",
      "| \u001b[0m1        \u001b[0m | \u001b[0m-0.6931  \u001b[0m | \u001b[0m447.5    \u001b[0m | \u001b[0m0.3448   \u001b[0m | \u001b[0m0.474    \u001b[0m | \u001b[0m71.36    \u001b[0m | \u001b[0m0.3167   \u001b[0m | \u001b[0m234.2    \u001b[0m | \u001b[0m118.9    \u001b[0m |\n",
      "| \u001b[0m2        \u001b[0m | \u001b[0m-0.6931  \u001b[0m | \u001b[0m198.2    \u001b[0m | \u001b[0m0.3241   \u001b[0m | \u001b[0m0.2704   \u001b[0m | \u001b[0m56.39    \u001b[0m | \u001b[0m0.7375   \u001b[0m | \u001b[0m130.8    \u001b[0m | \u001b[0m15.69    \u001b[0m |\n",
      "| \u001b[0m3        \u001b[0m | \u001b[0m-0.6931  \u001b[0m | \u001b[0m411.5    \u001b[0m | \u001b[0m0.612    \u001b[0m | \u001b[0m0.2443   \u001b[0m | \u001b[0m67.56    \u001b[0m | \u001b[0m0.3074   \u001b[0m | \u001b[0m69.24    \u001b[0m | \u001b[0m127.6    \u001b[0m |\n",
      "| \u001b[0m4        \u001b[0m | \u001b[0m-0.6931  \u001b[0m | \u001b[0m489.6    \u001b[0m | \u001b[0m0.1261   \u001b[0m | \u001b[0m0.4574   \u001b[0m | \u001b[0m75.28    \u001b[0m | \u001b[0m0.222    \u001b[0m | \u001b[0m85.71    \u001b[0m | \u001b[0m221.5    \u001b[0m |\n",
      "| \u001b[95m5        \u001b[0m | \u001b[95m-0.5191  \u001b[0m | \u001b[95m18.85    \u001b[0m | \u001b[95m0.2068   \u001b[0m | \u001b[95m0.3489   \u001b[0m | \u001b[95m2.105    \u001b[0m | \u001b[95m0.4243   \u001b[0m | \u001b[95m28.35    \u001b[0m | \u001b[95m120.9    \u001b[0m |\n",
      "| \u001b[0m6        \u001b[0m | \u001b[0m-0.6931  \u001b[0m | \u001b[0m310.3    \u001b[0m | \u001b[0m0.5066   \u001b[0m | \u001b[0m0.4224   \u001b[0m | \u001b[0m2.027    \u001b[0m | \u001b[0m0.8524   \u001b[0m | \u001b[0m159.0    \u001b[0m | \u001b[0m223.0    \u001b[0m |\n",
      "| \u001b[0m7        \u001b[0m | \u001b[0m-0.6931  \u001b[0m | \u001b[0m221.7    \u001b[0m | \u001b[0m0.3445   \u001b[0m | \u001b[0m0.427    \u001b[0m | \u001b[0m36.75    \u001b[0m | \u001b[0m0.3669   \u001b[0m | \u001b[0m6.498    \u001b[0m | \u001b[0m92.38    \u001b[0m |\n",
      "| \u001b[0m8        \u001b[0m | \u001b[0m-0.6931  \u001b[0m | \u001b[0m444.3    \u001b[0m | \u001b[0m0.04813  \u001b[0m | \u001b[0m0.2203   \u001b[0m | \u001b[0m22.09    \u001b[0m | \u001b[0m0.02227  \u001b[0m | \u001b[0m132.8    \u001b[0m | \u001b[0m176.7    \u001b[0m |\n",
      "| \u001b[0m9        \u001b[0m | \u001b[0m-0.6931  \u001b[0m | \u001b[0m441.7    \u001b[0m | \u001b[0m0.6072   \u001b[0m | \u001b[0m0.3165   \u001b[0m | \u001b[0m75.94    \u001b[0m | \u001b[0m0.885    \u001b[0m | \u001b[0m116.8    \u001b[0m | \u001b[0m180.8    \u001b[0m |\n",
      "| \u001b[95m10       \u001b[0m | \u001b[95m-0.496   \u001b[0m | \u001b[95m30.05    \u001b[0m | \u001b[95m0.05019  \u001b[0m | \u001b[95m0.5162   \u001b[0m | \u001b[95m81.13    \u001b[0m | \u001b[95m0.4672   \u001b[0m | \u001b[95m131.6    \u001b[0m | \u001b[95m5.946    \u001b[0m |\n",
      "| \u001b[0m11       \u001b[0m | \u001b[0m-0.6693  \u001b[0m | \u001b[0m0.0      \u001b[0m | \u001b[0m0.1419   \u001b[0m | \u001b[0m0.6      \u001b[0m | \u001b[0m100.0    \u001b[0m | \u001b[0m0.1597   \u001b[0m | \u001b[0m183.2    \u001b[0m | \u001b[0m136.8    \u001b[0m |\n",
      "| \u001b[95m12       \u001b[0m | \u001b[95m-0.4786  \u001b[0m | \u001b[95m13.13    \u001b[0m | \u001b[95m0.2027   \u001b[0m | \u001b[95m0.2005   \u001b[0m | \u001b[95m6.528    \u001b[0m | \u001b[95m0.3887   \u001b[0m | \u001b[95m29.1     \u001b[0m | \u001b[95m112.5    \u001b[0m |\n",
      "| \u001b[95m13       \u001b[0m | \u001b[95m-0.4049  \u001b[0m | \u001b[95m7.598    \u001b[0m | \u001b[95m0.1694   \u001b[0m | \u001b[95m0.2      \u001b[0m | \u001b[95m24.64    \u001b[0m | \u001b[95m0.3555   \u001b[0m | \u001b[95m46.97    \u001b[0m | \u001b[95m82.98    \u001b[0m |\n",
      "| \u001b[0m14       \u001b[0m | \u001b[0m-0.5106  \u001b[0m | \u001b[0m28.27    \u001b[0m | \u001b[0m0.364    \u001b[0m | \u001b[0m0.2928   \u001b[0m | \u001b[0m93.45    \u001b[0m | \u001b[0m0.1086   \u001b[0m | \u001b[0m134.2    \u001b[0m | \u001b[0m6.944    \u001b[0m |\n",
      "| \u001b[95m15       \u001b[0m | \u001b[95m-0.3532  \u001b[0m | \u001b[95m0.0      \u001b[0m | \u001b[95m0.0      \u001b[0m | \u001b[95m0.2      \u001b[0m | \u001b[95m23.33    \u001b[0m | \u001b[95m0.2632   \u001b[0m | \u001b[95m1.0      \u001b[0m | \u001b[95m18.93    \u001b[0m |\n",
      "| \u001b[0m16       \u001b[0m | \u001b[0m-0.4795  \u001b[0m | \u001b[0m0.0      \u001b[0m | \u001b[0m0.0      \u001b[0m | \u001b[0m0.2      \u001b[0m | \u001b[0m100.0    \u001b[0m | \u001b[0m1.0      \u001b[0m | \u001b[0m1.0      \u001b[0m | \u001b[0m52.21    \u001b[0m |\n",
      "| \u001b[0m17       \u001b[0m | \u001b[0m-0.4749  \u001b[0m | \u001b[0m9.084    \u001b[0m | \u001b[0m0.9202   \u001b[0m | \u001b[0m0.4071   \u001b[0m | \u001b[0m10.39    \u001b[0m | \u001b[0m0.09605  \u001b[0m | \u001b[0m38.11    \u001b[0m | \u001b[0m110.1    \u001b[0m |\n",
      "| \u001b[0m18       \u001b[0m | \u001b[0m-0.5543  \u001b[0m | \u001b[0m14.28    \u001b[0m | \u001b[0m0.06743  \u001b[0m | \u001b[0m0.3743   \u001b[0m | \u001b[0m13.08    \u001b[0m | \u001b[0m0.3568   \u001b[0m | \u001b[0m29.5     \u001b[0m | \u001b[0m117.2    \u001b[0m |\n",
      "| \u001b[95m19       \u001b[0m | \u001b[95m-0.2867  \u001b[0m | \u001b[95m0.0      \u001b[0m | \u001b[95m1.0      \u001b[0m | \u001b[95m0.2      \u001b[0m | \u001b[95m0.0      \u001b[0m | \u001b[95m0.0      \u001b[0m | \u001b[95m21.28    \u001b[0m | \u001b[95m56.87    \u001b[0m |\n",
      "| \u001b[0m20       \u001b[0m | \u001b[0m-0.3434  \u001b[0m | \u001b[0m37.08    \u001b[0m | \u001b[0m1.0      \u001b[0m | \u001b[0m0.2      \u001b[0m | \u001b[0m0.0      \u001b[0m | \u001b[0m1.0      \u001b[0m | \u001b[0m47.13    \u001b[0m | \u001b[0m33.66    \u001b[0m |\n",
      "| \u001b[95m21       \u001b[0m | \u001b[95m-0.2471  \u001b[0m | \u001b[95m0.0      \u001b[0m | \u001b[95m0.6652   \u001b[0m | \u001b[95m0.2      \u001b[0m | \u001b[95m0.0      \u001b[0m | \u001b[95m0.0      \u001b[0m | \u001b[95m82.69    \u001b[0m | \u001b[95m38.69    \u001b[0m |\n",
      "| \u001b[0m22       \u001b[0m | \u001b[0m-0.2757  \u001b[0m | \u001b[0m0.0      \u001b[0m | \u001b[0m1.0      \u001b[0m | \u001b[0m0.2      \u001b[0m | \u001b[0m0.0      \u001b[0m | \u001b[0m1.0      \u001b[0m | \u001b[0m141.4    \u001b[0m | \u001b[0m52.22    \u001b[0m |\n",
      "| \u001b[0m23       \u001b[0m | \u001b[0m-0.6931  \u001b[0m | \u001b[0m214.5    \u001b[0m | \u001b[0m0.00285  \u001b[0m | \u001b[0m0.2658   \u001b[0m | \u001b[0m58.26    \u001b[0m | \u001b[0m0.3941   \u001b[0m | \u001b[0m123.3    \u001b[0m | \u001b[0m126.8    \u001b[0m |\n",
      "| \u001b[0m24       \u001b[0m | \u001b[0m-0.6918  \u001b[0m | \u001b[0m84.27    \u001b[0m | \u001b[0m0.7997   \u001b[0m | \u001b[0m0.5275   \u001b[0m | \u001b[0m12.01    \u001b[0m | \u001b[0m0.1721   \u001b[0m | \u001b[0m215.7    \u001b[0m | \u001b[0m225.7    \u001b[0m |\n",
      "| \u001b[95m25       \u001b[0m | \u001b[95m-0.1475  \u001b[0m | \u001b[95m0.0      \u001b[0m | \u001b[95m1.0      \u001b[0m | \u001b[95m0.2      \u001b[0m | \u001b[95m0.0      \u001b[0m | \u001b[95m0.0      \u001b[0m | \u001b[95m204.5    \u001b[0m | \u001b[95m1.0      \u001b[0m |\n",
      "| \u001b[0m26       \u001b[0m | \u001b[0m-0.6931  \u001b[0m | \u001b[0m386.8    \u001b[0m | \u001b[0m0.2825   \u001b[0m | \u001b[0m0.299    \u001b[0m | \u001b[0m89.05    \u001b[0m | \u001b[0m0.09737  \u001b[0m | \u001b[0m143.9    \u001b[0m | \u001b[0m192.9    \u001b[0m |\n",
      "| \u001b[0m27       \u001b[0m | \u001b[0m-0.3192  \u001b[0m | \u001b[0m41.41    \u001b[0m | \u001b[0m1.0      \u001b[0m | \u001b[0m0.2      \u001b[0m | \u001b[0m0.0      \u001b[0m | \u001b[0m0.0      \u001b[0m | \u001b[0m250.0    \u001b[0m | \u001b[0m1.0      \u001b[0m |\n",
      "| \u001b[0m28       \u001b[0m | \u001b[0m-0.6931  \u001b[0m | \u001b[0m249.4    \u001b[0m | \u001b[0m0.1681   \u001b[0m | \u001b[0m0.4932   \u001b[0m | \u001b[0m34.5     \u001b[0m | \u001b[0m0.08568  \u001b[0m | \u001b[0m21.92    \u001b[0m | \u001b[0m189.9    \u001b[0m |\n",
      "| \u001b[0m29       \u001b[0m | \u001b[0m-0.6931  \u001b[0m | \u001b[0m100.1    \u001b[0m | \u001b[0m0.5529   \u001b[0m | \u001b[0m0.4468   \u001b[0m | \u001b[0m21.16    \u001b[0m | \u001b[0m0.6422   \u001b[0m | \u001b[0m17.26    \u001b[0m | \u001b[0m226.1    \u001b[0m |\n",
      "| \u001b[0m30       \u001b[0m | \u001b[0m-0.3198  \u001b[0m | \u001b[0m0.0      \u001b[0m | \u001b[0m1.0      \u001b[0m | \u001b[0m0.2      \u001b[0m | \u001b[0m49.65    \u001b[0m | \u001b[0m0.0      \u001b[0m | \u001b[0m235.1    \u001b[0m | \u001b[0m1.0      \u001b[0m |\n",
      "| \u001b[0m31       \u001b[0m | \u001b[0m-0.1475  \u001b[0m | \u001b[0m0.0      \u001b[0m | \u001b[0m1.0      \u001b[0m | \u001b[0m0.2      \u001b[0m | \u001b[0m0.0      \u001b[0m | \u001b[0m0.0      \u001b[0m | \u001b[0m155.3    \u001b[0m | \u001b[0m1.0      \u001b[0m |\n",
      "| \u001b[0m32       \u001b[0m | \u001b[0m-0.6931  \u001b[0m | \u001b[0m500.0    \u001b[0m | \u001b[0m1.0      \u001b[0m | \u001b[0m0.6      \u001b[0m | \u001b[0m0.0      \u001b[0m | \u001b[0m1.0      \u001b[0m | \u001b[0m1.0      \u001b[0m | \u001b[0m1.0      \u001b[0m |\n",
      "| \u001b[0m33       \u001b[0m | \u001b[0m-0.3021  \u001b[0m | \u001b[0m35.42    \u001b[0m | \u001b[0m1.0      \u001b[0m | \u001b[0m0.2      \u001b[0m | \u001b[0m0.0      \u001b[0m | \u001b[0m0.0      \u001b[0m | \u001b[0m179.0    \u001b[0m | \u001b[0m1.0      \u001b[0m |\n",
      "| \u001b[0m34       \u001b[0m | \u001b[0m-0.3602  \u001b[0m | \u001b[0m0.0      \u001b[0m | \u001b[0m0.0      \u001b[0m | \u001b[0m0.6      \u001b[0m | \u001b[0m0.0      \u001b[0m | \u001b[0m1.0      \u001b[0m | \u001b[0m250.0    \u001b[0m | \u001b[0m54.55    \u001b[0m |\n",
      "| \u001b[95m35       \u001b[0m | \u001b[95m-0.1373  \u001b[0m | \u001b[95m0.0      \u001b[0m | \u001b[95m1.0      \u001b[0m | \u001b[95m0.2      \u001b[0m | \u001b[95m0.0      \u001b[0m | \u001b[95m1.0      \u001b[0m | \u001b[95m114.8    \u001b[0m | \u001b[95m1.0      \u001b[0m |\n",
      "| \u001b[0m36       \u001b[0m | \u001b[0m-0.6931  \u001b[0m | \u001b[0m322.2    \u001b[0m | \u001b[0m1.0      \u001b[0m | \u001b[0m0.2      \u001b[0m | \u001b[0m0.0      \u001b[0m | \u001b[0m0.0      \u001b[0m | \u001b[0m250.0    \u001b[0m | \u001b[0m1.0      \u001b[0m |\n",
      "| \u001b[0m37       \u001b[0m | \u001b[0m-0.1373  \u001b[0m | \u001b[0m0.0      \u001b[0m | \u001b[0m1.0      \u001b[0m | \u001b[0m0.2      \u001b[0m | \u001b[0m0.0      \u001b[0m | \u001b[0m1.0      \u001b[0m | \u001b[0m250.0    \u001b[0m | \u001b[0m1.0      \u001b[0m |\n",
      "| \u001b[0m38       \u001b[0m | \u001b[0m-0.6931  \u001b[0m | \u001b[0m500.0    \u001b[0m | \u001b[0m0.0      \u001b[0m | \u001b[0m0.6      \u001b[0m | \u001b[0m0.0      \u001b[0m | \u001b[0m1.0      \u001b[0m | \u001b[0m250.0    \u001b[0m | \u001b[0m250.0    \u001b[0m |\n",
      "| \u001b[0m39       \u001b[0m | \u001b[0m-0.1373  \u001b[0m | \u001b[0m0.0      \u001b[0m | \u001b[0m1.0      \u001b[0m | \u001b[0m0.2      \u001b[0m | \u001b[0m0.0      \u001b[0m | \u001b[0m1.0      \u001b[0m | \u001b[0m76.11    \u001b[0m | \u001b[0m1.0      \u001b[0m |\n",
      "| \u001b[0m40       \u001b[0m | \u001b[0m-0.6931  \u001b[0m | \u001b[0m500.0    \u001b[0m | \u001b[0m1.0      \u001b[0m | \u001b[0m0.2      \u001b[0m | \u001b[0m0.0      \u001b[0m | \u001b[0m1.0      \u001b[0m | \u001b[0m250.0    \u001b[0m | \u001b[0m1.0      \u001b[0m |\n",
      "| \u001b[0m41       \u001b[0m | \u001b[0m-0.3496  \u001b[0m | \u001b[0m3.931    \u001b[0m | \u001b[0m0.127    \u001b[0m | \u001b[0m0.3213   \u001b[0m | \u001b[0m47.01    \u001b[0m | \u001b[0m0.3232   \u001b[0m | \u001b[0m73.26    \u001b[0m | \u001b[0m3.086    \u001b[0m |\n",
      "| \u001b[0m42       \u001b[0m | \u001b[0m-0.6931  \u001b[0m | \u001b[0m228.8    \u001b[0m | \u001b[0m1.0      \u001b[0m | \u001b[0m0.2      \u001b[0m | \u001b[0m100.0    \u001b[0m | \u001b[0m1.0      \u001b[0m | \u001b[0m250.0    \u001b[0m | \u001b[0m250.0    \u001b[0m |\n",
      "| \u001b[0m43       \u001b[0m | \u001b[0m-0.6931  \u001b[0m | \u001b[0m146.0    \u001b[0m | \u001b[0m0.26     \u001b[0m | \u001b[0m0.2253   \u001b[0m | \u001b[0m83.17    \u001b[0m | \u001b[0m0.6271   \u001b[0m | \u001b[0m66.87    \u001b[0m | \u001b[0m188.6    \u001b[0m |\n",
      "| \u001b[0m44       \u001b[0m | \u001b[0m-0.1645  \u001b[0m | \u001b[0m2.777    \u001b[0m | \u001b[0m0.9029   \u001b[0m | \u001b[0m0.4546   \u001b[0m | \u001b[0m1.305    \u001b[0m | \u001b[0m0.5601   \u001b[0m | \u001b[0m232.9    \u001b[0m | \u001b[0m8.124    \u001b[0m |\n",
      "| \u001b[0m45       \u001b[0m | \u001b[0m-0.6931  \u001b[0m | \u001b[0m337.5    \u001b[0m | \u001b[0m1.0      \u001b[0m | \u001b[0m0.2      \u001b[0m | \u001b[0m100.0    \u001b[0m | \u001b[0m1.0      \u001b[0m | \u001b[0m1.0      \u001b[0m | \u001b[0m1.0      \u001b[0m |\n",
      "| \u001b[0m46       \u001b[0m | \u001b[0m-0.1373  \u001b[0m | \u001b[0m0.0      \u001b[0m | \u001b[0m1.0      \u001b[0m | \u001b[0m0.2      \u001b[0m | \u001b[0m0.0      \u001b[0m | \u001b[0m1.0      \u001b[0m | \u001b[0m133.3    \u001b[0m | \u001b[0m1.0      \u001b[0m |\n",
      "| \u001b[0m47       \u001b[0m | \u001b[0m-0.6931  \u001b[0m | \u001b[0m282.1    \u001b[0m | \u001b[0m0.9198   \u001b[0m | \u001b[0m0.5134   \u001b[0m | \u001b[0m69.93    \u001b[0m | \u001b[0m0.9107   \u001b[0m | \u001b[0m57.56    \u001b[0m | \u001b[0m215.5    \u001b[0m |\n",
      "| \u001b[0m48       \u001b[0m | \u001b[0m-0.295   \u001b[0m | \u001b[0m0.0      \u001b[0m | \u001b[0m0.0      \u001b[0m | \u001b[0m0.2      \u001b[0m | \u001b[0m0.0      \u001b[0m | \u001b[0m1.0      \u001b[0m | \u001b[0m47.94    \u001b[0m | \u001b[0m1.0      \u001b[0m |\n",
      "| \u001b[0m49       \u001b[0m | \u001b[0m-0.6931  \u001b[0m | \u001b[0m108.3    \u001b[0m | \u001b[0m1.0      \u001b[0m | \u001b[0m0.2      \u001b[0m | \u001b[0m100.0    \u001b[0m | \u001b[0m1.0      \u001b[0m | \u001b[0m1.0      \u001b[0m | \u001b[0m1.0      \u001b[0m |\n",
      "| \u001b[0m50       \u001b[0m | \u001b[0m-0.29    \u001b[0m | \u001b[0m23.17    \u001b[0m | \u001b[0m0.2376   \u001b[0m | \u001b[0m0.5933   \u001b[0m | \u001b[0m3.663    \u001b[0m | \u001b[0m0.1898   \u001b[0m | \u001b[0m87.13    \u001b[0m | \u001b[0m1.379    \u001b[0m |\n",
      "| \u001b[0m51       \u001b[0m | \u001b[0m-0.6931  \u001b[0m | \u001b[0m412.4    \u001b[0m | \u001b[0m1.0      \u001b[0m | \u001b[0m0.6      \u001b[0m | \u001b[0m0.0      \u001b[0m | \u001b[0m1.0      \u001b[0m | \u001b[0m1.0      \u001b[0m | \u001b[0m250.0    \u001b[0m |\n",
      "| \u001b[0m52       \u001b[0m | \u001b[0m-0.6931  \u001b[0m | \u001b[0m372.0    \u001b[0m | \u001b[0m0.3002   \u001b[0m | \u001b[0m0.2501   \u001b[0m | \u001b[0m94.08    \u001b[0m | \u001b[0m0.06916  \u001b[0m | \u001b[0m32.61    \u001b[0m | \u001b[0m21.57    \u001b[0m |\n",
      "| \u001b[0m53       \u001b[0m | \u001b[0m-0.6931  \u001b[0m | \u001b[0m274.6    \u001b[0m | \u001b[0m0.737    \u001b[0m | \u001b[0m0.426    \u001b[0m | \u001b[0m6.447    \u001b[0m | \u001b[0m0.03759  \u001b[0m | \u001b[0m87.92    \u001b[0m | \u001b[0m192.1    \u001b[0m |\n",
      "| \u001b[0m54       \u001b[0m | \u001b[0m-0.6931  \u001b[0m | \u001b[0m276.1    \u001b[0m | \u001b[0m0.07675  \u001b[0m | \u001b[0m0.5414   \u001b[0m | \u001b[0m14.86    \u001b[0m | \u001b[0m0.6504   \u001b[0m | \u001b[0m228.6    \u001b[0m | \u001b[0m62.64    \u001b[0m |\n",
      "| \u001b[0m55       \u001b[0m | \u001b[0m-0.6931  \u001b[0m | \u001b[0m500.0    \u001b[0m | \u001b[0m0.0      \u001b[0m | \u001b[0m0.6      \u001b[0m | \u001b[0m100.0    \u001b[0m | \u001b[0m0.0      \u001b[0m | \u001b[0m132.6    \u001b[0m | \u001b[0m1.0      \u001b[0m |\n",
      "| \u001b[0m56       \u001b[0m | \u001b[0m-0.6931  \u001b[0m | \u001b[0m149.3    \u001b[0m | \u001b[0m1.0      \u001b[0m | \u001b[0m0.2      \u001b[0m | \u001b[0m100.0    \u001b[0m | \u001b[0m1.0      \u001b[0m | \u001b[0m250.0    \u001b[0m | \u001b[0m1.0      \u001b[0m |\n",
      "| \u001b[0m57       \u001b[0m | \u001b[0m-0.6931  \u001b[0m | \u001b[0m496.1    \u001b[0m | \u001b[0m0.4499   \u001b[0m | \u001b[0m0.273    \u001b[0m | \u001b[0m33.94    \u001b[0m | \u001b[0m0.3984   \u001b[0m | \u001b[0m151.6    \u001b[0m | \u001b[0m57.69    \u001b[0m |\n",
      "| \u001b[0m58       \u001b[0m | \u001b[0m-0.2371  \u001b[0m | \u001b[0m1.394    \u001b[0m | \u001b[0m0.5626   \u001b[0m | \u001b[0m0.2292   \u001b[0m | \u001b[0m15.08    \u001b[0m | \u001b[0m0.8399   \u001b[0m | \u001b[0m158.0    \u001b[0m | \u001b[0m7.375    \u001b[0m |\n",
      "| \u001b[0m59       \u001b[0m | \u001b[0m-0.2006  \u001b[0m | \u001b[0m0.0      \u001b[0m | \u001b[0m1.0      \u001b[0m | \u001b[0m0.2      \u001b[0m | \u001b[0m0.0      \u001b[0m | \u001b[0m1.0      \u001b[0m | \u001b[0m188.4    \u001b[0m | \u001b[0m20.24    \u001b[0m |\n",
      "| \u001b[0m60       \u001b[0m | \u001b[0m-0.4707  \u001b[0m | \u001b[0m75.01    \u001b[0m | \u001b[0m1.0      \u001b[0m | \u001b[0m0.2      \u001b[0m | \u001b[0m0.0      \u001b[0m | \u001b[0m1.0      \u001b[0m | \u001b[0m1.0      \u001b[0m | \u001b[0m58.21    \u001b[0m |\n",
      "| \u001b[0m61       \u001b[0m | \u001b[0m-0.6931  \u001b[0m | \u001b[0m243.7    \u001b[0m | \u001b[0m0.3929   \u001b[0m | \u001b[0m0.348    \u001b[0m | \u001b[0m31.34    \u001b[0m | \u001b[0m0.8066   \u001b[0m | \u001b[0m116.4    \u001b[0m | \u001b[0m178.4    \u001b[0m |\n",
      "| \u001b[0m62       \u001b[0m | \u001b[0m-0.1373  \u001b[0m | \u001b[0m0.0      \u001b[0m | \u001b[0m1.0      \u001b[0m | \u001b[0m0.2      \u001b[0m | \u001b[0m0.0      \u001b[0m | \u001b[0m1.0      \u001b[0m | \u001b[0m91.69    \u001b[0m | \u001b[0m1.0      \u001b[0m |\n",
      "| \u001b[0m63       \u001b[0m | \u001b[0m-0.6931  \u001b[0m | \u001b[0m380.2    \u001b[0m | \u001b[0m0.0      \u001b[0m | \u001b[0m0.6      \u001b[0m | \u001b[0m100.0    \u001b[0m | \u001b[0m1.0      \u001b[0m | \u001b[0m250.0    \u001b[0m | \u001b[0m1.0      \u001b[0m |\n",
      "| \u001b[0m64       \u001b[0m | \u001b[0m-0.6931  \u001b[0m | \u001b[0m500.0    \u001b[0m | \u001b[0m1.0      \u001b[0m | \u001b[0m0.6      \u001b[0m | \u001b[0m100.0    \u001b[0m | \u001b[0m0.0      \u001b[0m | \u001b[0m1.0      \u001b[0m | \u001b[0m117.4    \u001b[0m |\n",
      "| \u001b[0m65       \u001b[0m | \u001b[0m-0.6931  \u001b[0m | \u001b[0m498.5    \u001b[0m | \u001b[0m0.59     \u001b[0m | \u001b[0m0.3974   \u001b[0m | \u001b[0m16.34    \u001b[0m | \u001b[0m0.2419   \u001b[0m | \u001b[0m237.1    \u001b[0m | \u001b[0m173.9    \u001b[0m |\n",
      "| \u001b[0m66       \u001b[0m | \u001b[0m-0.6931  \u001b[0m | \u001b[0m384.6    \u001b[0m | \u001b[0m0.2672   \u001b[0m | \u001b[0m0.2376   \u001b[0m | \u001b[0m56.88    \u001b[0m | \u001b[0m0.5194   \u001b[0m | \u001b[0m36.15    \u001b[0m | \u001b[0m238.7    \u001b[0m |\n",
      "| \u001b[0m67       \u001b[0m | \u001b[0m-0.6702  \u001b[0m | \u001b[0m0.0      \u001b[0m | \u001b[0m1.0      \u001b[0m | \u001b[0m0.2      \u001b[0m | \u001b[0m100.0    \u001b[0m | \u001b[0m1.0      \u001b[0m | \u001b[0m250.0    \u001b[0m | \u001b[0m250.0    \u001b[0m |\n",
      "| \u001b[0m68       \u001b[0m | \u001b[0m-0.6931  \u001b[0m | \u001b[0m322.4    \u001b[0m | \u001b[0m1.0      \u001b[0m | \u001b[0m0.6      \u001b[0m | \u001b[0m0.0      \u001b[0m | \u001b[0m1.0      \u001b[0m | \u001b[0m87.83    \u001b[0m | \u001b[0m1.0      \u001b[0m |\n",
      "| \u001b[0m69       \u001b[0m | \u001b[0m-0.6647  \u001b[0m | \u001b[0m138.5    \u001b[0m | \u001b[0m0.7275   \u001b[0m | \u001b[0m0.3337   \u001b[0m | \u001b[0m21.19    \u001b[0m | \u001b[0m0.4771   \u001b[0m | \u001b[0m158.6    \u001b[0m | \u001b[0m116.6    \u001b[0m |\n",
      "| \u001b[0m70       \u001b[0m | \u001b[0m-0.6931  \u001b[0m | \u001b[0m348.2    \u001b[0m | \u001b[0m0.6773   \u001b[0m | \u001b[0m0.5187   \u001b[0m | \u001b[0m98.54    \u001b[0m | \u001b[0m0.1486   \u001b[0m | \u001b[0m123.3    \u001b[0m | \u001b[0m227.9    \u001b[0m |\n",
      "| \u001b[0m71       \u001b[0m | \u001b[0m-0.24    \u001b[0m | \u001b[0m11.22    \u001b[0m | \u001b[0m0.4409   \u001b[0m | \u001b[0m0.2863   \u001b[0m | \u001b[0m6.065    \u001b[0m | \u001b[0m0.04711  \u001b[0m | \u001b[0m246.9    \u001b[0m | \u001b[0m1.638    \u001b[0m |\n",
      "| \u001b[0m72       \u001b[0m | \u001b[0m-0.6931  \u001b[0m | \u001b[0m140.5    \u001b[0m | \u001b[0m0.8948   \u001b[0m | \u001b[0m0.5236   \u001b[0m | \u001b[0m85.24    \u001b[0m | \u001b[0m0.1254   \u001b[0m | \u001b[0m198.8    \u001b[0m | \u001b[0m43.91    \u001b[0m |\n",
      "| \u001b[0m73       \u001b[0m | \u001b[0m-0.6245  \u001b[0m | \u001b[0m135.4    \u001b[0m | \u001b[0m0.05026  \u001b[0m | \u001b[0m0.4743   \u001b[0m | \u001b[0m3.483    \u001b[0m | \u001b[0m0.7849   \u001b[0m | \u001b[0m241.6    \u001b[0m | \u001b[0m1.71     \u001b[0m |\n",
      "| \u001b[0m74       \u001b[0m | \u001b[0m-0.6931  \u001b[0m | \u001b[0m266.0    \u001b[0m | \u001b[0m0.834    \u001b[0m | \u001b[0m0.2009   \u001b[0m | \u001b[0m62.4     \u001b[0m | \u001b[0m0.6889   \u001b[0m | \u001b[0m142.0    \u001b[0m | \u001b[0m196.4    \u001b[0m |\n",
      "| \u001b[0m75       \u001b[0m | \u001b[0m-0.6931  \u001b[0m | \u001b[0m396.4    \u001b[0m | \u001b[0m0.0      \u001b[0m | \u001b[0m0.6      \u001b[0m | \u001b[0m100.0    \u001b[0m | \u001b[0m0.0      \u001b[0m | \u001b[0m250.0    \u001b[0m | \u001b[0m250.0    \u001b[0m |\n",
      "| \u001b[0m76       \u001b[0m | \u001b[0m-0.2019  \u001b[0m | \u001b[0m2.82     \u001b[0m | \u001b[0m0.3826   \u001b[0m | \u001b[0m0.5924   \u001b[0m | \u001b[0m4.572    \u001b[0m | \u001b[0m0.9775   \u001b[0m | \u001b[0m111.9    \u001b[0m | \u001b[0m9.0      \u001b[0m |\n",
      "| \u001b[0m77       \u001b[0m | \u001b[0m-0.4919  \u001b[0m | \u001b[0m10.56    \u001b[0m | \u001b[0m0.8159   \u001b[0m | \u001b[0m0.5138   \u001b[0m | \u001b[0m0.514    \u001b[0m | \u001b[0m0.3724   \u001b[0m | \u001b[0m28.46    \u001b[0m | \u001b[0m116.5    \u001b[0m |\n",
      "| \u001b[0m78       \u001b[0m | \u001b[0m-0.4864  \u001b[0m | \u001b[0m0.0      \u001b[0m | \u001b[0m1.0      \u001b[0m | \u001b[0m0.2      \u001b[0m | \u001b[0m0.0      \u001b[0m | \u001b[0m1.0      \u001b[0m | \u001b[0m164.8    \u001b[0m | \u001b[0m116.1    \u001b[0m |\n",
      "| \u001b[0m79       \u001b[0m | \u001b[0m-0.4072  \u001b[0m | \u001b[0m35.83    \u001b[0m | \u001b[0m0.9851   \u001b[0m | \u001b[0m0.2276   \u001b[0m | \u001b[0m2.054    \u001b[0m | \u001b[0m0.3905   \u001b[0m | \u001b[0m63.92    \u001b[0m | \u001b[0m70.45    \u001b[0m |\n",
      "| \u001b[0m80       \u001b[0m | \u001b[0m-0.4763  \u001b[0m | \u001b[0m4.141    \u001b[0m | \u001b[0m0.4019   \u001b[0m | \u001b[0m0.5877   \u001b[0m | \u001b[0m0.6951   \u001b[0m | \u001b[0m0.07187  \u001b[0m | \u001b[0m165.1    \u001b[0m | \u001b[0m116.4    \u001b[0m |\n",
      "=============================================================================================================\n"
     ]
    }
   ],
   "source": [
    "# Tune the model using Bayesian Optimization.\n",
    "model_bo = BayesianOptimization(bo_tune, pbounds=bo_bounds,\n",
    "                                verbose=2, random_state=226)\n",
    "model_bo.maximize(init_points=10, n_iter=70)"
   ]
  },
  {
   "cell_type": "code",
   "execution_count": 26,
   "metadata": {},
   "outputs": [],
   "source": [
    "# Retrieve the best parameters.\n",
    "bo_params = model_bo.max[\"params\"]\n",
    "\n",
    "# Update the parameter dictionary with the best parameters.\n",
    "parameters[\"max_depth\"] = int(bo_params[\"max_depth\"])\n",
    "parameters[\"min_child_weight\"] = int(bo_params[\"min_child_weight\"])\n",
    "parameters[\"colsample_bytree\"] = bo_params[\"colsample_bytree\"]\n",
    "parameters[\"reg_alpha\"] = bo_params[\"alpha_vals\"]\n",
    "parameters[\"reg_lambda\"] = bo_params[\"lambda_vals\"]\n",
    "parameters[\"min_split_loss\"] = bo_params[\"gamma_vals\"]\n",
    "parameters[\"eta\"] = bo_params[\"eta\"]"
   ]
  },
  {
   "cell_type": "markdown",
   "metadata": {},
   "source": [
    "***\n",
    "## Model Training\n",
    "\n",
    "Train the model using the tuned hyperparameters to find the ideal number of boosting rounds."
   ]
  },
  {
   "cell_type": "code",
   "execution_count": 27,
   "metadata": {},
   "outputs": [
    {
     "name": "stdout",
     "output_type": "stream",
     "text": [
      "[0]\tBoosting_Rounds_Test-logloss:0.56437\n",
      "[1]\tBoosting_Rounds_Test-logloss:0.47559\n",
      "[2]\tBoosting_Rounds_Test-logloss:0.41235\n",
      "[3]\tBoosting_Rounds_Test-logloss:0.36593\n",
      "[4]\tBoosting_Rounds_Test-logloss:0.33131\n",
      "[5]\tBoosting_Rounds_Test-logloss:0.30209\n",
      "[6]\tBoosting_Rounds_Test-logloss:0.27703\n",
      "[7]\tBoosting_Rounds_Test-logloss:0.25662\n",
      "[8]\tBoosting_Rounds_Test-logloss:0.24019\n",
      "[9]\tBoosting_Rounds_Test-logloss:0.22839\n",
      "[10]\tBoosting_Rounds_Test-logloss:0.21804\n",
      "[11]\tBoosting_Rounds_Test-logloss:0.20657\n",
      "[12]\tBoosting_Rounds_Test-logloss:0.19878\n",
      "[13]\tBoosting_Rounds_Test-logloss:0.18963\n",
      "[14]\tBoosting_Rounds_Test-logloss:0.18428\n",
      "[15]\tBoosting_Rounds_Test-logloss:0.17879\n",
      "[16]\tBoosting_Rounds_Test-logloss:0.17466\n",
      "[17]\tBoosting_Rounds_Test-logloss:0.16834\n",
      "[18]\tBoosting_Rounds_Test-logloss:0.16658\n",
      "[19]\tBoosting_Rounds_Test-logloss:0.16558\n",
      "[20]\tBoosting_Rounds_Test-logloss:0.16402\n",
      "[21]\tBoosting_Rounds_Test-logloss:0.16331\n",
      "[22]\tBoosting_Rounds_Test-logloss:0.16167\n",
      "[23]\tBoosting_Rounds_Test-logloss:0.16056\n",
      "[24]\tBoosting_Rounds_Test-logloss:0.16139\n",
      "[25]\tBoosting_Rounds_Test-logloss:0.15940\n",
      "[26]\tBoosting_Rounds_Test-logloss:0.15763\n",
      "[27]\tBoosting_Rounds_Test-logloss:0.15546\n",
      "[28]\tBoosting_Rounds_Test-logloss:0.15478\n",
      "[29]\tBoosting_Rounds_Test-logloss:0.15545\n",
      "[30]\tBoosting_Rounds_Test-logloss:0.15647\n",
      "[31]\tBoosting_Rounds_Test-logloss:0.15609\n",
      "[32]\tBoosting_Rounds_Test-logloss:0.15526\n",
      "[33]\tBoosting_Rounds_Test-logloss:0.15655\n",
      "[34]\tBoosting_Rounds_Test-logloss:0.15706\n",
      "[35]\tBoosting_Rounds_Test-logloss:0.15425\n",
      "[36]\tBoosting_Rounds_Test-logloss:0.15389\n",
      "[37]\tBoosting_Rounds_Test-logloss:0.15245\n",
      "[38]\tBoosting_Rounds_Test-logloss:0.15056\n",
      "[39]\tBoosting_Rounds_Test-logloss:0.14985\n",
      "[40]\tBoosting_Rounds_Test-logloss:0.14998\n",
      "[41]\tBoosting_Rounds_Test-logloss:0.14987\n",
      "[42]\tBoosting_Rounds_Test-logloss:0.14735\n",
      "[43]\tBoosting_Rounds_Test-logloss:0.14629\n",
      "[44]\tBoosting_Rounds_Test-logloss:0.14693\n",
      "[45]\tBoosting_Rounds_Test-logloss:0.14620\n",
      "[46]\tBoosting_Rounds_Test-logloss:0.14404\n",
      "[47]\tBoosting_Rounds_Test-logloss:0.14449\n",
      "[48]\tBoosting_Rounds_Test-logloss:0.14341\n",
      "[49]\tBoosting_Rounds_Test-logloss:0.14249\n",
      "[50]\tBoosting_Rounds_Test-logloss:0.14127\n",
      "[51]\tBoosting_Rounds_Test-logloss:0.14149\n",
      "[52]\tBoosting_Rounds_Test-logloss:0.13940\n",
      "[53]\tBoosting_Rounds_Test-logloss:0.13909\n",
      "[54]\tBoosting_Rounds_Test-logloss:0.13860\n",
      "[55]\tBoosting_Rounds_Test-logloss:0.13744\n",
      "[56]\tBoosting_Rounds_Test-logloss:0.13729\n",
      "[57]\tBoosting_Rounds_Test-logloss:0.13742\n",
      "[58]\tBoosting_Rounds_Test-logloss:0.13864\n",
      "[59]\tBoosting_Rounds_Test-logloss:0.13855\n",
      "[60]\tBoosting_Rounds_Test-logloss:0.13875\n",
      "[61]\tBoosting_Rounds_Test-logloss:0.13905\n",
      "[62]\tBoosting_Rounds_Test-logloss:0.13939\n",
      "[63]\tBoosting_Rounds_Test-logloss:0.14083\n",
      "[64]\tBoosting_Rounds_Test-logloss:0.14001\n",
      "[65]\tBoosting_Rounds_Test-logloss:0.14260\n",
      "[66]\tBoosting_Rounds_Test-logloss:0.14326\n",
      "[67]\tBoosting_Rounds_Test-logloss:0.14264\n",
      "[68]\tBoosting_Rounds_Test-logloss:0.14305\n",
      "[69]\tBoosting_Rounds_Test-logloss:0.14370\n",
      "[70]\tBoosting_Rounds_Test-logloss:0.14296\n",
      "[71]\tBoosting_Rounds_Test-logloss:0.14161\n",
      "[72]\tBoosting_Rounds_Test-logloss:0.14007\n",
      "[73]\tBoosting_Rounds_Test-logloss:0.13889\n",
      "[74]\tBoosting_Rounds_Test-logloss:0.13894\n",
      "[75]\tBoosting_Rounds_Test-logloss:0.13819\n",
      "[76]\tBoosting_Rounds_Test-logloss:0.13739\n",
      "[77]\tBoosting_Rounds_Test-logloss:0.13707\n",
      "[78]\tBoosting_Rounds_Test-logloss:0.13753\n",
      "[79]\tBoosting_Rounds_Test-logloss:0.13715\n",
      "[80]\tBoosting_Rounds_Test-logloss:0.13668\n",
      "[81]\tBoosting_Rounds_Test-logloss:0.13571\n",
      "[82]\tBoosting_Rounds_Test-logloss:0.13490\n",
      "[83]\tBoosting_Rounds_Test-logloss:0.13629\n",
      "[84]\tBoosting_Rounds_Test-logloss:0.13572\n",
      "[85]\tBoosting_Rounds_Test-logloss:0.13535\n",
      "[86]\tBoosting_Rounds_Test-logloss:0.13552\n",
      "[87]\tBoosting_Rounds_Test-logloss:0.13617\n",
      "[88]\tBoosting_Rounds_Test-logloss:0.13594\n",
      "[89]\tBoosting_Rounds_Test-logloss:0.13557\n",
      "[90]\tBoosting_Rounds_Test-logloss:0.13570\n",
      "[91]\tBoosting_Rounds_Test-logloss:0.13545\n",
      "[92]\tBoosting_Rounds_Test-logloss:0.13602\n",
      "[93]\tBoosting_Rounds_Test-logloss:0.13636\n",
      "[94]\tBoosting_Rounds_Test-logloss:0.13531\n",
      "[95]\tBoosting_Rounds_Test-logloss:0.13548\n",
      "[96]\tBoosting_Rounds_Test-logloss:0.13508\n",
      "[97]\tBoosting_Rounds_Test-logloss:0.13466\n",
      "[98]\tBoosting_Rounds_Test-logloss:0.13507\n",
      "[99]\tBoosting_Rounds_Test-logloss:0.13539\n",
      "[100]\tBoosting_Rounds_Test-logloss:0.13499\n",
      "[101]\tBoosting_Rounds_Test-logloss:0.13413\n",
      "[102]\tBoosting_Rounds_Test-logloss:0.13433\n",
      "[103]\tBoosting_Rounds_Test-logloss:0.13456\n",
      "[104]\tBoosting_Rounds_Test-logloss:0.13472\n",
      "[105]\tBoosting_Rounds_Test-logloss:0.13477\n",
      "[106]\tBoosting_Rounds_Test-logloss:0.13459\n",
      "[107]\tBoosting_Rounds_Test-logloss:0.13513\n",
      "[108]\tBoosting_Rounds_Test-logloss:0.13587\n",
      "[109]\tBoosting_Rounds_Test-logloss:0.13546\n",
      "[110]\tBoosting_Rounds_Test-logloss:0.13478\n",
      "[111]\tBoosting_Rounds_Test-logloss:0.13419\n",
      "[112]\tBoosting_Rounds_Test-logloss:0.13433\n",
      "[113]\tBoosting_Rounds_Test-logloss:0.13367\n",
      "[114]\tBoosting_Rounds_Test-logloss:0.13384\n",
      "[115]\tBoosting_Rounds_Test-logloss:0.13329\n",
      "[116]\tBoosting_Rounds_Test-logloss:0.13341\n",
      "[117]\tBoosting_Rounds_Test-logloss:0.13323\n",
      "[118]\tBoosting_Rounds_Test-logloss:0.13271\n",
      "[119]\tBoosting_Rounds_Test-logloss:0.13249\n",
      "[120]\tBoosting_Rounds_Test-logloss:0.13252\n",
      "[121]\tBoosting_Rounds_Test-logloss:0.13272\n",
      "[122]\tBoosting_Rounds_Test-logloss:0.13320\n",
      "[123]\tBoosting_Rounds_Test-logloss:0.13368\n",
      "[124]\tBoosting_Rounds_Test-logloss:0.13359\n",
      "[125]\tBoosting_Rounds_Test-logloss:0.13375\n",
      "[126]\tBoosting_Rounds_Test-logloss:0.13445\n",
      "[127]\tBoosting_Rounds_Test-logloss:0.13443\n",
      "[128]\tBoosting_Rounds_Test-logloss:0.13426\n",
      "[129]\tBoosting_Rounds_Test-logloss:0.13449\n",
      "[130]\tBoosting_Rounds_Test-logloss:0.13566\n",
      "[131]\tBoosting_Rounds_Test-logloss:0.13576\n",
      "[132]\tBoosting_Rounds_Test-logloss:0.13528\n",
      "[133]\tBoosting_Rounds_Test-logloss:0.13514\n",
      "[134]\tBoosting_Rounds_Test-logloss:0.13450\n",
      "[135]\tBoosting_Rounds_Test-logloss:0.13571\n",
      "[136]\tBoosting_Rounds_Test-logloss:0.13632\n",
      "[137]\tBoosting_Rounds_Test-logloss:0.13683\n",
      "[138]\tBoosting_Rounds_Test-logloss:0.13620\n",
      "[139]\tBoosting_Rounds_Test-logloss:0.13550\n",
      "[140]\tBoosting_Rounds_Test-logloss:0.13446\n",
      "[141]\tBoosting_Rounds_Test-logloss:0.13397\n",
      "[142]\tBoosting_Rounds_Test-logloss:0.13293\n",
      "[143]\tBoosting_Rounds_Test-logloss:0.13251\n",
      "[144]\tBoosting_Rounds_Test-logloss:0.13302\n"
     ]
    }
   ],
   "source": [
    "boost_rnds_model = xgb.train(\n",
    "    parameters,\n",
    "    d_train,\n",
    "    num_boost_round=999,\n",
    "    evals=[(d_val, \"Boosting_Rounds_Test\")],\n",
    "    early_stopping_rounds=25,\n",
    ")"
   ]
  },
  {
   "cell_type": "code",
   "execution_count": 28,
   "metadata": {},
   "outputs": [],
   "source": [
    "# Re-train model with ideal number of boosting rounds.\n",
    "tuned_model = xgb.train(\n",
    "    parameters,\n",
    "    d_train,\n",
    "    num_boost_round = boost_rnds_model.best_iteration + 1,\n",
    ")"
   ]
  },
  {
   "cell_type": "markdown",
   "metadata": {},
   "source": [
    "***\n",
    "## Model Testing\n",
    "\n",
    "Use the trained model to make a prediction of the testing set."
   ]
  },
  {
   "cell_type": "code",
   "execution_count": 29,
   "metadata": {},
   "outputs": [],
   "source": [
    "y_pred = tuned_model.predict(d_test)"
   ]
  },
  {
   "cell_type": "code",
   "execution_count": 30,
   "metadata": {},
   "outputs": [],
   "source": [
    "# Convert prediction scores to classes.\n",
    "y_pred[y_pred > 0.8] = 1\n",
    "y_pred[y_pred <= 0.8] = 0"
   ]
  },
  {
   "cell_type": "code",
   "execution_count": 31,
   "metadata": {},
   "outputs": [
    {
     "data": {
      "text/plain": [
       "94.84193011647255"
      ]
     },
     "execution_count": 31,
     "metadata": {},
     "output_type": "execute_result"
    }
   ],
   "source": [
    "# Get the accuracy score of our prediction.\n",
    "accuracy_score(y_pred, y_test) * 100"
   ]
  },
  {
   "cell_type": "code",
   "execution_count": 32,
   "metadata": {},
   "outputs": [
    {
     "data": {
      "image/png": "[encoded data removed]",
      "text/plain": [
       "<Figure size 640x480 with 2 Axes>"
      ]
     },
     "metadata": {},
     "output_type": "display_data"
    }
   ],
   "source": [
    "# Plot a confusion matrix of the prediction.\n",
    "conf_matrix = confusion_matrix(y_test, y_pred)\n",
    "cofn_plt = ConfusionMatrixDisplay(confusion_matrix = conf_matrix)\n",
    "cofn_plt.plot()\n",
    "plt.show()"
   ]
  },
  {
   "cell_type": "code",
   "execution_count": 33,
   "metadata": {},
   "outputs": [],
   "source": [
    "# Save the tuned model.\n",
    "tuned_model.save_model(\"../models/XGBoost_Tuned_Model.json\")"
   ]
  }
 ],
 "metadata": {
  "kernelspec": {
   "display_name": "Fire_Detection",
   "language": "python",
   "name": "python3"
  },
  "language_info": {
   "codemirror_mode": {
    "name": "ipython",
    "version": 3
   },
   "file_extension": ".py",
   "mimetype": "text/x-python",
   "name": "python",
   "nbconvert_exporter": "python",
   "pygments_lexer": "ipython3",
   "version": "3.12.0"
  },
  "orig_nbformat": 4
 },
 "nbformat": 4,
 "nbformat_minor": 2
}
