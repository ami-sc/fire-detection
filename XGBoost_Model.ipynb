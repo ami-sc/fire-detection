{
 "cells": [
  {
   "attachments": {},
   "cell_type": "markdown",
   "metadata": {},
   "source": [
    "#### XGBoost Model\n",
    "\n",
    "***\n",
    "\n",
    "The following notebook contains code for training, tuning, and testing an XGBoost model trained on Wavelet Features from *fire* and *non-fire* images."
   ]
  },
  {
   "cell_type": "code",
   "execution_count": 1,
   "metadata": {},
   "outputs": [],
   "source": [
    "import numpy as np\n",
    "import xgboost as xgb\n",
    "\n",
    "from bayes_opt import BayesianOptimization\n",
    "\n",
    "from sklearn.metrics import accuracy_score\n",
    "from sklearn.model_selection import train_test_split\n",
    "from sklearn.metrics import confusion_matrix, ConfusionMatrixDisplay\n",
    "\n",
    "import matplotlib.pyplot as plt"
   ]
  },
  {
   "cell_type": "code",
   "execution_count": 2,
   "metadata": {},
   "outputs": [
    {
     "data": {
      "text/plain": [
       "(4507, 55)"
      ]
     },
     "execution_count": 2,
     "metadata": {},
     "output_type": "execute_result"
    }
   ],
   "source": [
    "# Load the Wavelet Features.\n",
    "wav_01 = np.loadtxt(\"WAV__effective_forest_fire_detection.csv\", delimiter = \",\", dtype = np.float32)\n",
    "wav_02 = np.loadtxt(\"WAV__fire_dataset.csv\", delimiter = \",\", dtype = np.float32)\n",
    "\n",
    "# Combine both files into a single matrix.\n",
    "wav_ft = np.vstack([wav_01, wav_02])\n",
    "wav_ft.shape"
   ]
  },
  {
   "cell_type": "code",
   "execution_count": 3,
   "metadata": {},
   "outputs": [],
   "source": [
    "# Separate data into predictors (X) and label (y).\n",
    "X = wav_ft[:, :-1]\n",
    "y = wav_ft[:, -1]\n",
    "\n",
    "# Split data into training and testing sets.\n",
    "X_train, X_test, y_train, y_test = train_test_split(X, y, train_size = 0.8, random_state = 226)\n",
    "\n",
    "# Split into validation set.\n",
    "X_train, X_val, y_train, y_val = train_test_split(X_train, y_train, test_size=0.25, random_state = 226)"
   ]
  },
  {
   "cell_type": "code",
   "execution_count": 4,
   "metadata": {},
   "outputs": [],
   "source": [
    "# Convert sets into DMatrices (required by XGBoost).\n",
    "d_train = xgb.DMatrix(X_train, label = y_train, enable_categorical = False)\n",
    "d_val = xgb.DMatrix(X_val, label = y_val, enable_categorical = False)\n",
    "d_test = xgb.DMatrix(X_test, enable_categorical = False)"
   ]
  },
  {
   "attachments": {},
   "cell_type": "markdown",
   "metadata": {},
   "source": [
    "- The following dictionary contains the default hyperparameters for XGBoost.\n",
    "  - `\"objective\": \"binary:logistic\"` tells XGBoost we are doing binary classification.\n",
    "  - `\"eval_metric\": \"logloss\"` is the evaluation metric."
   ]
  },
  {
   "cell_type": "code",
   "execution_count": 5,
   "metadata": {},
   "outputs": [],
   "source": [
    "parameters = {\n",
    "    # Parameters for Tree Booster\n",
    "    \"max_depth\": 6,\n",
    "    \"min_child_weight\": 1,\n",
    "    \"eta\": 0.3,\n",
    "    \"subsample\": 0.5,\n",
    "    \"colsample_bytree\": 0.1,\n",
    "    \"reg_lambda\": 0,\n",
    "    \"reg_alpha\": 1,\n",
    "    \"min_split_loss\": 0,\n",
    "\n",
    "    # Learning Task Parameters\n",
    "    \"objective\": \"binary:logistic\",\n",
    "    \"eval_metric\": \"logloss\"\n",
    "}\n",
    "\n",
    "# Bounds for Bayesian Optimization.\n",
    "bo_bounds = {\n",
    "    \"max_depth\": (1, 250),\n",
    "    \"min_child_weight\": (1, 250),\n",
    "    \"colsample_bytree\": (0, 1),\n",
    "    \"alpha_vals\": (0, 500),\n",
    "    \"lambda_vals\": (0, 1),\n",
    "    \"gamma_vals\": (0, 100),\n",
    "    \"eta\": (0.2, 0.6)\n",
    "}"
   ]
  },
  {
   "attachments": {},
   "cell_type": "markdown",
   "metadata": {},
   "source": [
    "The following is a helper function for tuning the model. It will update the parameter dictionary and train a model with the target parameters, returning the loss for the training."
   ]
  },
  {
   "cell_type": "code",
   "execution_count": 6,
   "metadata": {},
   "outputs": [],
   "source": [
    "def bo_tune(max_depth, min_child_weight, colsample_bytree,\n",
    "            alpha_vals, lambda_vals, gamma_vals,\n",
    "            eta):\n",
    "\n",
    "    parameters[\"max_depth\"] = int(max_depth)\n",
    "    parameters[\"min_child_weight\"] = int(min_child_weight)\n",
    "    parameters[\"colsample_bytree\"] = colsample_bytree\n",
    "    parameters[\"reg_alpha\"] = alpha_vals\n",
    "    parameters[\"reg_lambda\"] = lambda_vals\n",
    "    parameters[\"min_split_loss\"] = gamma_vals\n",
    "    parameters[\"eta\"] = eta\n",
    "\n",
    "    test_performance = {}\n",
    "\n",
    "    xgb.train(\n",
    "        parameters,\n",
    "        d_train,\n",
    "        num_boost_round = 999,\n",
    "        evals = [(d_val, \"BO_Val\")],\n",
    "        evals_result = test_performance,\n",
    "        early_stopping_rounds = 20,\n",
    "        verbose_eval = False,\n",
    "    )\n",
    "\n",
    "    test_mae = min(test_performance[\"BO_Val\"][\"logloss\"])\n",
    "\n",
    "    # Retrieve the loss from the test.\n",
    "    return test_mae * -1.0"
   ]
  },
  {
   "cell_type": "code",
   "execution_count": 7,
   "metadata": {},
   "outputs": [
    {
     "name": "stdout",
     "output_type": "stream",
     "text": [
      "|   iter    |  target   | alpha_... | colsam... |    eta    | gamma_... | lambda... | max_depth | min_ch... |\n",
      "-------------------------------------------------------------------------------------------------------------\n",
      "| \u001b[0m1        \u001b[0m | \u001b[0m-0.6931  \u001b[0m | \u001b[0m447.5    \u001b[0m | \u001b[0m0.3448   \u001b[0m | \u001b[0m0.474    \u001b[0m | \u001b[0m71.36    \u001b[0m | \u001b[0m0.3167   \u001b[0m | \u001b[0m234.2    \u001b[0m | \u001b[0m118.9    \u001b[0m |\n",
      "| \u001b[0m2        \u001b[0m | \u001b[0m-0.6931  \u001b[0m | \u001b[0m198.2    \u001b[0m | \u001b[0m0.3241   \u001b[0m | \u001b[0m0.2704   \u001b[0m | \u001b[0m56.39    \u001b[0m | \u001b[0m0.7375   \u001b[0m | \u001b[0m130.8    \u001b[0m | \u001b[0m15.69    \u001b[0m |\n",
      "| \u001b[0m3        \u001b[0m | \u001b[0m-0.6931  \u001b[0m | \u001b[0m411.5    \u001b[0m | \u001b[0m0.612    \u001b[0m | \u001b[0m0.2443   \u001b[0m | \u001b[0m67.56    \u001b[0m | \u001b[0m0.3074   \u001b[0m | \u001b[0m69.24    \u001b[0m | \u001b[0m127.6    \u001b[0m |\n",
      "| \u001b[0m4        \u001b[0m | \u001b[0m-0.6931  \u001b[0m | \u001b[0m489.6    \u001b[0m | \u001b[0m0.1261   \u001b[0m | \u001b[0m0.4574   \u001b[0m | \u001b[0m75.28    \u001b[0m | \u001b[0m0.222    \u001b[0m | \u001b[0m85.71    \u001b[0m | \u001b[0m221.5    \u001b[0m |\n",
      "| \u001b[95m5        \u001b[0m | \u001b[95m-0.4759  \u001b[0m | \u001b[95m18.85    \u001b[0m | \u001b[95m0.2068   \u001b[0m | \u001b[95m0.3489   \u001b[0m | \u001b[95m2.105    \u001b[0m | \u001b[95m0.4243   \u001b[0m | \u001b[95m28.35    \u001b[0m | \u001b[95m120.9    \u001b[0m |\n",
      "| \u001b[0m6        \u001b[0m | \u001b[0m-0.6931  \u001b[0m | \u001b[0m310.3    \u001b[0m | \u001b[0m0.5066   \u001b[0m | \u001b[0m0.4224   \u001b[0m | \u001b[0m2.027    \u001b[0m | \u001b[0m0.8524   \u001b[0m | \u001b[0m159.0    \u001b[0m | \u001b[0m223.0    \u001b[0m |\n",
      "| \u001b[0m7        \u001b[0m | \u001b[0m-0.6931  \u001b[0m | \u001b[0m221.7    \u001b[0m | \u001b[0m0.3445   \u001b[0m | \u001b[0m0.427    \u001b[0m | \u001b[0m36.75    \u001b[0m | \u001b[0m0.3669   \u001b[0m | \u001b[0m6.498    \u001b[0m | \u001b[0m92.38    \u001b[0m |\n",
      "| \u001b[0m8        \u001b[0m | \u001b[0m-0.6931  \u001b[0m | \u001b[0m444.3    \u001b[0m | \u001b[0m0.04813  \u001b[0m | \u001b[0m0.2203   \u001b[0m | \u001b[0m22.09    \u001b[0m | \u001b[0m0.02227  \u001b[0m | \u001b[0m132.8    \u001b[0m | \u001b[0m176.7    \u001b[0m |\n",
      "| \u001b[0m9        \u001b[0m | \u001b[0m-0.6931  \u001b[0m | \u001b[0m441.7    \u001b[0m | \u001b[0m0.6072   \u001b[0m | \u001b[0m0.3165   \u001b[0m | \u001b[0m75.94    \u001b[0m | \u001b[0m0.885    \u001b[0m | \u001b[0m116.8    \u001b[0m | \u001b[0m180.8    \u001b[0m |\n",
      "| \u001b[95m10       \u001b[0m | \u001b[95m-0.4754  \u001b[0m | \u001b[95m30.05    \u001b[0m | \u001b[95m0.05019  \u001b[0m | \u001b[95m0.5162   \u001b[0m | \u001b[95m81.13    \u001b[0m | \u001b[95m0.4672   \u001b[0m | \u001b[95m131.6    \u001b[0m | \u001b[95m5.946    \u001b[0m |\n",
      "| \u001b[0m11       \u001b[0m | \u001b[0m-0.6569  \u001b[0m | \u001b[0m0.0      \u001b[0m | \u001b[0m0.0      \u001b[0m | \u001b[0m0.6      \u001b[0m | \u001b[0m100.0    \u001b[0m | \u001b[0m0.0      \u001b[0m | \u001b[0m160.6    \u001b[0m | \u001b[0m163.7    \u001b[0m |\n",
      "| \u001b[95m12       \u001b[0m | \u001b[95m-0.2764  \u001b[0m | \u001b[95m0.0      \u001b[0m | \u001b[95m0.0      \u001b[0m | \u001b[95m0.4735   \u001b[0m | \u001b[95m11.32    \u001b[0m | \u001b[95m0.7331   \u001b[0m | \u001b[95m32.74    \u001b[0m | \u001b[95m1.0      \u001b[0m |\n",
      "| \u001b[0m13       \u001b[0m | \u001b[0m-0.3634  \u001b[0m | \u001b[0m0.0      \u001b[0m | \u001b[0m1.0      \u001b[0m | \u001b[0m0.6      \u001b[0m | \u001b[0m91.93    \u001b[0m | \u001b[0m1.0      \u001b[0m | \u001b[0m1.0      \u001b[0m | \u001b[0m1.0      \u001b[0m |\n",
      "| \u001b[95m14       \u001b[0m | \u001b[95m-0.1688  \u001b[0m | \u001b[95m0.0      \u001b[0m | \u001b[95m1.0      \u001b[0m | \u001b[95m0.2      \u001b[0m | \u001b[95m0.0      \u001b[0m | \u001b[95m0.0      \u001b[0m | \u001b[95m1.0      \u001b[0m | \u001b[95m1.0      \u001b[0m |\n",
      "| \u001b[0m15       \u001b[0m | \u001b[0m-0.4225  \u001b[0m | \u001b[0m62.25    \u001b[0m | \u001b[0m1.0      \u001b[0m | \u001b[0m0.2      \u001b[0m | \u001b[0m0.0      \u001b[0m | \u001b[0m0.0      \u001b[0m | \u001b[0m1.0      \u001b[0m | \u001b[0m1.0      \u001b[0m |\n",
      "| \u001b[95m16       \u001b[0m | \u001b[95m-0.1527  \u001b[0m | \u001b[95m0.0      \u001b[0m | \u001b[95m1.0      \u001b[0m | \u001b[95m0.2      \u001b[0m | \u001b[95m0.0      \u001b[0m | \u001b[95m0.0      \u001b[0m | \u001b[95m250.0    \u001b[0m | \u001b[95m1.0      \u001b[0m |\n",
      "| \u001b[0m17       \u001b[0m | \u001b[0m-0.2204  \u001b[0m | \u001b[0m11.08    \u001b[0m | \u001b[0m0.3882   \u001b[0m | \u001b[0m0.4029   \u001b[0m | \u001b[0m5.848    \u001b[0m | \u001b[0m0.7964   \u001b[0m | \u001b[0m249.6    \u001b[0m | \u001b[0m5.968    \u001b[0m |\n",
      "| \u001b[0m18       \u001b[0m | \u001b[0m-0.2577  \u001b[0m | \u001b[0m15.85    \u001b[0m | \u001b[0m0.3545   \u001b[0m | \u001b[0m0.2734   \u001b[0m | \u001b[0m5.782    \u001b[0m | \u001b[0m0.4014   \u001b[0m | \u001b[0m241.5    \u001b[0m | \u001b[0m14.22    \u001b[0m |\n",
      "| \u001b[95m19       \u001b[0m | \u001b[95m-0.1365  \u001b[0m | \u001b[95m0.0      \u001b[0m | \u001b[95m1.0      \u001b[0m | \u001b[95m0.6      \u001b[0m | \u001b[95m0.0      \u001b[0m | \u001b[95m1.0      \u001b[0m | \u001b[95m181.7    \u001b[0m | \u001b[95m1.0      \u001b[0m |\n",
      "| \u001b[0m20       \u001b[0m | \u001b[0m-0.6931  \u001b[0m | \u001b[0m500.0    \u001b[0m | \u001b[0m1.0      \u001b[0m | \u001b[0m0.6      \u001b[0m | \u001b[0m0.0      \u001b[0m | \u001b[0m1.0      \u001b[0m | \u001b[0m1.0      \u001b[0m | \u001b[0m1.0      \u001b[0m |\n",
      "| \u001b[0m21       \u001b[0m | \u001b[0m-0.3972  \u001b[0m | \u001b[0m1.421e-14\u001b[0m | \u001b[0m1.0      \u001b[0m | \u001b[0m0.2      \u001b[0m | \u001b[0m100.0    \u001b[0m | \u001b[0m0.0      \u001b[0m | \u001b[0m250.0    \u001b[0m | \u001b[0m1.0      \u001b[0m |\n",
      "| \u001b[0m22       \u001b[0m | \u001b[0m-0.684   \u001b[0m | \u001b[0m0.0      \u001b[0m | \u001b[0m1.0      \u001b[0m | \u001b[0m0.2      \u001b[0m | \u001b[0m100.0    \u001b[0m | \u001b[0m0.0      \u001b[0m | \u001b[0m1.0      \u001b[0m | \u001b[0m250.0    \u001b[0m |\n",
      "| \u001b[0m23       \u001b[0m | \u001b[0m-0.306   \u001b[0m | \u001b[0m20.6     \u001b[0m | \u001b[0m0.2811   \u001b[0m | \u001b[0m0.2567   \u001b[0m | \u001b[0m10.98    \u001b[0m | \u001b[0m0.813    \u001b[0m | \u001b[0m236.1    \u001b[0m | \u001b[0m16.75    \u001b[0m |\n",
      "| \u001b[0m24       \u001b[0m | \u001b[0m-0.2121  \u001b[0m | \u001b[0m14.05    \u001b[0m | \u001b[0m0.8641   \u001b[0m | \u001b[0m0.3768   \u001b[0m | \u001b[0m1.307    \u001b[0m | \u001b[0m0.8453   \u001b[0m | \u001b[0m249.7    \u001b[0m | \u001b[0m21.81    \u001b[0m |\n",
      "| \u001b[0m25       \u001b[0m | \u001b[0m-0.6845  \u001b[0m | \u001b[0m71.48    \u001b[0m | \u001b[0m0.9213   \u001b[0m | \u001b[0m0.3844   \u001b[0m | \u001b[0m2.731    \u001b[0m | \u001b[0m0.7375   \u001b[0m | \u001b[0m247.3    \u001b[0m | \u001b[0m248.2    \u001b[0m |\n",
      "| \u001b[0m26       \u001b[0m | \u001b[0m-0.2998  \u001b[0m | \u001b[0m11.49    \u001b[0m | \u001b[0m0.7963   \u001b[0m | \u001b[0m0.4805   \u001b[0m | \u001b[0m15.59    \u001b[0m | \u001b[0m0.6893   \u001b[0m | \u001b[0m246.0    \u001b[0m | \u001b[0m18.6     \u001b[0m |\n",
      "| \u001b[0m27       \u001b[0m | \u001b[0m-0.2739  \u001b[0m | \u001b[0m0.0      \u001b[0m | \u001b[0m1.0      \u001b[0m | \u001b[0m0.6      \u001b[0m | \u001b[0m0.0      \u001b[0m | \u001b[0m1.0      \u001b[0m | \u001b[0m146.4    \u001b[0m | \u001b[0m54.51    \u001b[0m |\n",
      "| \u001b[0m28       \u001b[0m | \u001b[0m-0.1997  \u001b[0m | \u001b[0m1.902    \u001b[0m | \u001b[0m0.8625   \u001b[0m | \u001b[0m0.3559   \u001b[0m | \u001b[0m13.46    \u001b[0m | \u001b[0m0.1013   \u001b[0m | \u001b[0m19.79    \u001b[0m | \u001b[0m7.806    \u001b[0m |\n",
      "| \u001b[0m29       \u001b[0m | \u001b[0m-0.306   \u001b[0m | \u001b[0m4.184    \u001b[0m | \u001b[0m0.2487   \u001b[0m | \u001b[0m0.5071   \u001b[0m | \u001b[0m7.753    \u001b[0m | \u001b[0m0.2487   \u001b[0m | \u001b[0m148.2    \u001b[0m | \u001b[0m53.54    \u001b[0m |\n",
      "| \u001b[0m30       \u001b[0m | \u001b[0m-0.2604  \u001b[0m | \u001b[0m0.0      \u001b[0m | \u001b[0m1.0      \u001b[0m | \u001b[0m0.2      \u001b[0m | \u001b[0m0.0      \u001b[0m | \u001b[0m0.0      \u001b[0m | \u001b[0m1.0      \u001b[0m | \u001b[0m50.46    \u001b[0m |\n",
      "| \u001b[0m31       \u001b[0m | \u001b[0m-0.4709  \u001b[0m | \u001b[0m138.0    \u001b[0m | \u001b[0m1.0      \u001b[0m | \u001b[0m0.6      \u001b[0m | \u001b[0m0.0      \u001b[0m | \u001b[0m1.0      \u001b[0m | \u001b[0m250.0    \u001b[0m | \u001b[0m1.0      \u001b[0m |\n",
      "| \u001b[0m32       \u001b[0m | \u001b[0m-0.6931  \u001b[0m | \u001b[0m500.0    \u001b[0m | \u001b[0m0.0      \u001b[0m | \u001b[0m0.6      \u001b[0m | \u001b[0m0.0      \u001b[0m | \u001b[0m1.0      \u001b[0m | \u001b[0m250.0    \u001b[0m | \u001b[0m1.0      \u001b[0m |\n",
      "| \u001b[0m33       \u001b[0m | \u001b[0m-0.4436  \u001b[0m | \u001b[0m13.15    \u001b[0m | \u001b[0m0.2627   \u001b[0m | \u001b[0m0.218    \u001b[0m | \u001b[0m0.05078  \u001b[0m | \u001b[0m0.007553 \u001b[0m | \u001b[0m249.9    \u001b[0m | \u001b[0m116.5    \u001b[0m |\n",
      "| \u001b[0m34       \u001b[0m | \u001b[0m-0.6931  \u001b[0m | \u001b[0m245.8    \u001b[0m | \u001b[0m1.0      \u001b[0m | \u001b[0m0.2      \u001b[0m | \u001b[0m100.0    \u001b[0m | \u001b[0m1.0      \u001b[0m | \u001b[0m1.0      \u001b[0m | \u001b[0m250.0    \u001b[0m |\n",
      "| \u001b[0m35       \u001b[0m | \u001b[0m-0.6931  \u001b[0m | \u001b[0m305.0    \u001b[0m | \u001b[0m0.0      \u001b[0m | \u001b[0m0.6      \u001b[0m | \u001b[0m100.0    \u001b[0m | \u001b[0m0.0      \u001b[0m | \u001b[0m250.0    \u001b[0m | \u001b[0m1.0      \u001b[0m |\n",
      "| \u001b[0m36       \u001b[0m | \u001b[0m-0.6931  \u001b[0m | \u001b[0m500.0    \u001b[0m | \u001b[0m1.0      \u001b[0m | \u001b[0m0.6      \u001b[0m | \u001b[0m0.0      \u001b[0m | \u001b[0m1.0      \u001b[0m | \u001b[0m250.0    \u001b[0m | \u001b[0m250.0    \u001b[0m |\n",
      "| \u001b[0m37       \u001b[0m | \u001b[0m-0.3415  \u001b[0m | \u001b[0m0.0      \u001b[0m | \u001b[0m1.0      \u001b[0m | \u001b[0m0.2      \u001b[0m | \u001b[0m37.57    \u001b[0m | \u001b[0m0.0      \u001b[0m | \u001b[0m1.0      \u001b[0m | \u001b[0m21.43    \u001b[0m |\n",
      "| \u001b[0m38       \u001b[0m | \u001b[0m-0.6931  \u001b[0m | \u001b[0m222.3    \u001b[0m | \u001b[0m0.0      \u001b[0m | \u001b[0m0.6      \u001b[0m | \u001b[0m100.0    \u001b[0m | \u001b[0m0.0      \u001b[0m | \u001b[0m250.0    \u001b[0m | \u001b[0m250.0    \u001b[0m |\n",
      "| \u001b[0m39       \u001b[0m | \u001b[0m-0.3303  \u001b[0m | \u001b[0m51.28    \u001b[0m | \u001b[0m1.0      \u001b[0m | \u001b[0m0.6      \u001b[0m | \u001b[0m0.0      \u001b[0m | \u001b[0m1.0      \u001b[0m | \u001b[0m155.5    \u001b[0m | \u001b[0m1.0      \u001b[0m |\n",
      "| \u001b[0m40       \u001b[0m | \u001b[0m-0.6931  \u001b[0m | \u001b[0m333.4    \u001b[0m | \u001b[0m0.0      \u001b[0m | \u001b[0m0.2      \u001b[0m | \u001b[0m0.0      \u001b[0m | \u001b[0m1.0      \u001b[0m | \u001b[0m1.0      \u001b[0m | \u001b[0m1.0      \u001b[0m |\n",
      "| \u001b[0m41       \u001b[0m | \u001b[0m-0.6931  \u001b[0m | \u001b[0m397.4    \u001b[0m | \u001b[0m0.0      \u001b[0m | \u001b[0m0.6      \u001b[0m | \u001b[0m0.0      \u001b[0m | \u001b[0m1.0      \u001b[0m | \u001b[0m1.0      \u001b[0m | \u001b[0m250.0    \u001b[0m |\n",
      "| \u001b[0m42       \u001b[0m | \u001b[0m-0.5767  \u001b[0m | \u001b[0m94.54    \u001b[0m | \u001b[0m1.0      \u001b[0m | \u001b[0m0.6      \u001b[0m | \u001b[0m100.0    \u001b[0m | \u001b[0m0.0      \u001b[0m | \u001b[0m1.0      \u001b[0m | \u001b[0m1.0      \u001b[0m |\n",
      "| \u001b[0m43       \u001b[0m | \u001b[0m-0.1718  \u001b[0m | \u001b[0m1.447    \u001b[0m | \u001b[0m0.5812   \u001b[0m | \u001b[0m0.373    \u001b[0m | \u001b[0m6.165    \u001b[0m | \u001b[0m0.8985   \u001b[0m | \u001b[0m30.34    \u001b[0m | \u001b[0m5.033    \u001b[0m |\n",
      "| \u001b[0m44       \u001b[0m | \u001b[0m-0.3631  \u001b[0m | \u001b[0m29.43    \u001b[0m | \u001b[0m0.2284   \u001b[0m | \u001b[0m0.3922   \u001b[0m | \u001b[0m3.778    \u001b[0m | \u001b[0m0.8166   \u001b[0m | \u001b[0m62.45    \u001b[0m | \u001b[0m60.35    \u001b[0m |\n",
      "| \u001b[0m45       \u001b[0m | \u001b[0m-0.2559  \u001b[0m | \u001b[0m18.06    \u001b[0m | \u001b[0m0.6617   \u001b[0m | \u001b[0m0.2251   \u001b[0m | \u001b[0m1.42     \u001b[0m | \u001b[0m0.3492   \u001b[0m | \u001b[0m19.45    \u001b[0m | \u001b[0m24.5     \u001b[0m |\n",
      "| \u001b[0m46       \u001b[0m | \u001b[0m-0.1985  \u001b[0m | \u001b[0m1.295    \u001b[0m | \u001b[0m0.7498   \u001b[0m | \u001b[0m0.432    \u001b[0m | \u001b[0m1.307    \u001b[0m | \u001b[0m0.4665   \u001b[0m | \u001b[0m108.9    \u001b[0m | \u001b[0m27.16    \u001b[0m |\n",
      "| \u001b[0m47       \u001b[0m | \u001b[0m-0.2716  \u001b[0m | \u001b[0m1.355    \u001b[0m | \u001b[0m0.8061   \u001b[0m | \u001b[0m0.4602   \u001b[0m | \u001b[0m36.18    \u001b[0m | \u001b[0m0.04051  \u001b[0m | \u001b[0m2.545    \u001b[0m | \u001b[0m10.05    \u001b[0m |\n",
      "| \u001b[0m48       \u001b[0m | \u001b[0m-0.4408  \u001b[0m | \u001b[0m77.23    \u001b[0m | \u001b[0m1.0      \u001b[0m | \u001b[0m0.6      \u001b[0m | \u001b[0m0.0      \u001b[0m | \u001b[0m1.0      \u001b[0m | \u001b[0m250.0    \u001b[0m | \u001b[0m66.58    \u001b[0m |\n",
      "| \u001b[0m49       \u001b[0m | \u001b[0m-0.6902  \u001b[0m | \u001b[0m123.5    \u001b[0m | \u001b[0m0.0      \u001b[0m | \u001b[0m0.2      \u001b[0m | \u001b[0m0.0      \u001b[0m | \u001b[0m1.0      \u001b[0m | \u001b[0m68.01    \u001b[0m | \u001b[0m250.0    \u001b[0m |\n",
      "| \u001b[0m50       \u001b[0m | \u001b[0m-0.31    \u001b[0m | \u001b[0m7.757    \u001b[0m | \u001b[0m0.8379   \u001b[0m | \u001b[0m0.3567   \u001b[0m | \u001b[0m30.82    \u001b[0m | \u001b[0m0.3497   \u001b[0m | \u001b[0m184.0    \u001b[0m | \u001b[0m4.351    \u001b[0m |\n",
      "| \u001b[0m51       \u001b[0m | \u001b[0m-0.5932  \u001b[0m | \u001b[0m96.2     \u001b[0m | \u001b[0m1.0      \u001b[0m | \u001b[0m0.2      \u001b[0m | \u001b[0m100.0    \u001b[0m | \u001b[0m1.0      \u001b[0m | \u001b[0m250.0    \u001b[0m | \u001b[0m1.0      \u001b[0m |\n",
      "| \u001b[0m52       \u001b[0m | \u001b[0m-0.4402  \u001b[0m | \u001b[0m76.53    \u001b[0m | \u001b[0m1.0      \u001b[0m | \u001b[0m0.6      \u001b[0m | \u001b[0m0.0      \u001b[0m | \u001b[0m1.0      \u001b[0m | \u001b[0m130.7    \u001b[0m | \u001b[0m81.32    \u001b[0m |\n",
      "| \u001b[0m53       \u001b[0m | \u001b[0m-0.3006  \u001b[0m | \u001b[0m40.33    \u001b[0m | \u001b[0m1.0      \u001b[0m | \u001b[0m0.2      \u001b[0m | \u001b[0m0.0      \u001b[0m | \u001b[0m1.0      \u001b[0m | \u001b[0m93.66    \u001b[0m | \u001b[0m1.0      \u001b[0m |\n",
      "| \u001b[0m54       \u001b[0m | \u001b[0m-0.3341  \u001b[0m | \u001b[0m54.64    \u001b[0m | \u001b[0m0.6613   \u001b[0m | \u001b[0m0.5742   \u001b[0m | \u001b[0m0.3389   \u001b[0m | \u001b[0m0.8232   \u001b[0m | \u001b[0m162.1    \u001b[0m | \u001b[0m3.312    \u001b[0m |\n",
      "| \u001b[0m55       \u001b[0m | \u001b[0m-0.2568  \u001b[0m | \u001b[0m0.1763   \u001b[0m | \u001b[0m8.949e-05\u001b[0m | \u001b[0m0.5287   \u001b[0m | \u001b[0m0.3541   \u001b[0m | \u001b[0m0.9438   \u001b[0m | \u001b[0m58.17    \u001b[0m | \u001b[0m30.4     \u001b[0m |\n",
      "| \u001b[0m56       \u001b[0m | \u001b[0m-0.6931  \u001b[0m | \u001b[0m500.0    \u001b[0m | \u001b[0m0.0      \u001b[0m | \u001b[0m0.2      \u001b[0m | \u001b[0m100.0    \u001b[0m | \u001b[0m0.0      \u001b[0m | \u001b[0m121.4    \u001b[0m | \u001b[0m1.0      \u001b[0m |\n",
      "| \u001b[0m57       \u001b[0m | \u001b[0m-0.253   \u001b[0m | \u001b[0m0.9231   \u001b[0m | \u001b[0m0.009514 \u001b[0m | \u001b[0m0.3004   \u001b[0m | \u001b[0m6.646    \u001b[0m | \u001b[0m0.7624   \u001b[0m | \u001b[0m32.87    \u001b[0m | \u001b[0m2.879    \u001b[0m |\n",
      "| \u001b[0m58       \u001b[0m | \u001b[0m-0.1627  \u001b[0m | \u001b[0m0.0      \u001b[0m | \u001b[0m1.0      \u001b[0m | \u001b[0m0.6      \u001b[0m | \u001b[0m0.0      \u001b[0m | \u001b[0m1.0      \u001b[0m | \u001b[0m202.9    \u001b[0m | \u001b[0m19.79    \u001b[0m |\n",
      "| \u001b[0m59       \u001b[0m | \u001b[0m-0.1675  \u001b[0m | \u001b[0m0.0      \u001b[0m | \u001b[0m1.0      \u001b[0m | \u001b[0m0.6      \u001b[0m | \u001b[0m0.0      \u001b[0m | \u001b[0m1.0      \u001b[0m | \u001b[0m150.0    \u001b[0m | \u001b[0m14.01    \u001b[0m |\n",
      "| \u001b[0m60       \u001b[0m | \u001b[0m-0.2673  \u001b[0m | \u001b[0m26.55    \u001b[0m | \u001b[0m1.0      \u001b[0m | \u001b[0m0.6      \u001b[0m | \u001b[0m0.0      \u001b[0m | \u001b[0m1.0      \u001b[0m | \u001b[0m128.3    \u001b[0m | \u001b[0m26.81    \u001b[0m |\n",
      "| \u001b[0m61       \u001b[0m | \u001b[0m-0.358   \u001b[0m | \u001b[0m14.01    \u001b[0m | \u001b[0m1.0      \u001b[0m | \u001b[0m0.6      \u001b[0m | \u001b[0m29.5     \u001b[0m | \u001b[0m1.0      \u001b[0m | \u001b[0m93.1     \u001b[0m | \u001b[0m30.55    \u001b[0m |\n",
      "| \u001b[0m62       \u001b[0m | \u001b[0m-0.2304  \u001b[0m | \u001b[0m1.465    \u001b[0m | \u001b[0m0.6018   \u001b[0m | \u001b[0m0.2029   \u001b[0m | \u001b[0m18.88    \u001b[0m | \u001b[0m0.1842   \u001b[0m | \u001b[0m130.7    \u001b[0m | \u001b[0m4.643    \u001b[0m |\n",
      "| \u001b[0m63       \u001b[0m | \u001b[0m-0.1951  \u001b[0m | \u001b[0m0.0      \u001b[0m | \u001b[0m1.0      \u001b[0m | \u001b[0m0.6      \u001b[0m | \u001b[0m0.0      \u001b[0m | \u001b[0m1.0      \u001b[0m | \u001b[0m27.96    \u001b[0m | \u001b[0m26.45    \u001b[0m |\n",
      "| \u001b[0m64       \u001b[0m | \u001b[0m-0.2478  \u001b[0m | \u001b[0m13.1     \u001b[0m | \u001b[0m0.1143   \u001b[0m | \u001b[0m0.3128   \u001b[0m | \u001b[0m0.9617   \u001b[0m | \u001b[0m0.3794   \u001b[0m | \u001b[0m180.8    \u001b[0m | \u001b[0m24.35    \u001b[0m |\n",
      "| \u001b[0m65       \u001b[0m | \u001b[0m-0.334   \u001b[0m | \u001b[0m7.911    \u001b[0m | \u001b[0m0.1714   \u001b[0m | \u001b[0m0.4738   \u001b[0m | \u001b[0m4.625    \u001b[0m | \u001b[0m0.1601   \u001b[0m | \u001b[0m110.8    \u001b[0m | \u001b[0m66.18    \u001b[0m |\n",
      "| \u001b[0m66       \u001b[0m | \u001b[0m-0.2651  \u001b[0m | \u001b[0m0.0      \u001b[0m | \u001b[0m1.0      \u001b[0m | \u001b[0m0.6      \u001b[0m | \u001b[0m0.0      \u001b[0m | \u001b[0m1.0      \u001b[0m | \u001b[0m225.4    \u001b[0m | \u001b[0m49.77    \u001b[0m |\n",
      "| \u001b[0m67       \u001b[0m | \u001b[0m-0.3936  \u001b[0m | \u001b[0m85.49    \u001b[0m | \u001b[0m1.0      \u001b[0m | \u001b[0m0.6      \u001b[0m | \u001b[0m0.0      \u001b[0m | \u001b[0m1.0      \u001b[0m | \u001b[0m107.6    \u001b[0m | \u001b[0m10.31    \u001b[0m |\n",
      "| \u001b[0m68       \u001b[0m | \u001b[0m-0.3185  \u001b[0m | \u001b[0m0.0      \u001b[0m | \u001b[0m1.0      \u001b[0m | \u001b[0m0.6      \u001b[0m | \u001b[0m31.3     \u001b[0m | \u001b[0m1.0      \u001b[0m | \u001b[0m199.6    \u001b[0m | \u001b[0m48.37    \u001b[0m |\n",
      "| \u001b[0m69       \u001b[0m | \u001b[0m-0.3542  \u001b[0m | \u001b[0m0.0      \u001b[0m | \u001b[0m1.0      \u001b[0m | \u001b[0m0.6      \u001b[0m | \u001b[0m0.0      \u001b[0m | \u001b[0m1.0      \u001b[0m | \u001b[0m187.8    \u001b[0m | \u001b[0m80.46    \u001b[0m |\n",
      "| \u001b[0m70       \u001b[0m | \u001b[0m-0.4251  \u001b[0m | \u001b[0m19.03    \u001b[0m | \u001b[0m1.0      \u001b[0m | \u001b[0m0.6      \u001b[0m | \u001b[0m58.79    \u001b[0m | \u001b[0m1.0      \u001b[0m | \u001b[0m32.36    \u001b[0m | \u001b[0m1.0      \u001b[0m |\n",
      "| \u001b[0m71       \u001b[0m | \u001b[0m-0.3901  \u001b[0m | \u001b[0m52.97    \u001b[0m | \u001b[0m0.7464   \u001b[0m | \u001b[0m0.5056   \u001b[0m | \u001b[0m3.103    \u001b[0m | \u001b[0m0.925    \u001b[0m | \u001b[0m197.2    \u001b[0m | \u001b[0m49.26    \u001b[0m |\n",
      "| \u001b[0m72       \u001b[0m | \u001b[0m-0.4764  \u001b[0m | \u001b[0m9.511    \u001b[0m | \u001b[0m0.03433  \u001b[0m | \u001b[0m0.449    \u001b[0m | \u001b[0m40.01    \u001b[0m | \u001b[0m0.9342   \u001b[0m | \u001b[0m245.4    \u001b[0m | \u001b[0m71.44    \u001b[0m |\n",
      "| \u001b[0m73       \u001b[0m | \u001b[0m-0.4035  \u001b[0m | \u001b[0m1.663    \u001b[0m | \u001b[0m0.6062   \u001b[0m | \u001b[0m0.5101   \u001b[0m | \u001b[0m66.39    \u001b[0m | \u001b[0m0.9728   \u001b[0m | \u001b[0m54.41    \u001b[0m | \u001b[0m80.39    \u001b[0m |\n",
      "| \u001b[0m74       \u001b[0m | \u001b[0m-0.2511  \u001b[0m | \u001b[0m7.071    \u001b[0m | \u001b[0m0.9957   \u001b[0m | \u001b[0m0.203    \u001b[0m | \u001b[0m12.38    \u001b[0m | \u001b[0m0.8558   \u001b[0m | \u001b[0m209.3    \u001b[0m | \u001b[0m2.597    \u001b[0m |\n",
      "| \u001b[0m75       \u001b[0m | \u001b[0m-0.4213  \u001b[0m | \u001b[0m1.654    \u001b[0m | \u001b[0m0.9839   \u001b[0m | \u001b[0m0.5101   \u001b[0m | \u001b[0m4.344    \u001b[0m | \u001b[0m0.4284   \u001b[0m | \u001b[0m135.8    \u001b[0m | \u001b[0m110.7    \u001b[0m |\n",
      "| \u001b[0m76       \u001b[0m | \u001b[0m-0.6336  \u001b[0m | \u001b[0m214.1    \u001b[0m | \u001b[0m0.9203   \u001b[0m | \u001b[0m0.2804   \u001b[0m | \u001b[0m1.411    \u001b[0m | \u001b[0m0.8817   \u001b[0m | \u001b[0m240.6    \u001b[0m | \u001b[0m130.9    \u001b[0m |\n",
      "| \u001b[0m77       \u001b[0m | \u001b[0m-0.1365  \u001b[0m | \u001b[0m0.0      \u001b[0m | \u001b[0m1.0      \u001b[0m | \u001b[0m0.6      \u001b[0m | \u001b[0m0.0      \u001b[0m | \u001b[0m1.0      \u001b[0m | \u001b[0m111.9    \u001b[0m | \u001b[0m1.0      \u001b[0m |\n",
      "| \u001b[0m78       \u001b[0m | \u001b[0m-0.1765  \u001b[0m | \u001b[0m12.83    \u001b[0m | \u001b[0m0.9761   \u001b[0m | \u001b[0m0.2547   \u001b[0m | \u001b[0m0.4396   \u001b[0m | \u001b[0m0.007293 \u001b[0m | \u001b[0m123.3    \u001b[0m | \u001b[0m6.709    \u001b[0m |\n",
      "| \u001b[0m79       \u001b[0m | \u001b[0m-0.6931  \u001b[0m | \u001b[0m356.5    \u001b[0m | \u001b[0m0.03668  \u001b[0m | \u001b[0m0.5153   \u001b[0m | \u001b[0m4.05     \u001b[0m | \u001b[0m0.8745   \u001b[0m | \u001b[0m161.7    \u001b[0m | \u001b[0m22.93    \u001b[0m |\n",
      "| \u001b[0m80       \u001b[0m | \u001b[0m-0.6402  \u001b[0m | \u001b[0m144.9    \u001b[0m | \u001b[0m0.9411   \u001b[0m | \u001b[0m0.4542   \u001b[0m | \u001b[0m96.04    \u001b[0m | \u001b[0m0.1452   \u001b[0m | \u001b[0m118.0    \u001b[0m | \u001b[0m158.5    \u001b[0m |\n",
      "=============================================================================================================\n"
     ]
    }
   ],
   "source": [
    "# Tune the model parameters using Bayesian Optimization.\n",
    "# Every time, a new model is trained with a different parameter combination.\n",
    "# We try to maximize the negative logloss.\n",
    "model_bo = BayesianOptimization(bo_tune, pbounds = bo_bounds,\n",
    "                                verbose = 2, random_state = 226)\n",
    "model_bo.maximize(init_points = 10, n_iter = 70)"
   ]
  },
  {
   "cell_type": "code",
   "execution_count": 8,
   "metadata": {},
   "outputs": [],
   "source": [
    "# Retrieve the best parameters.\n",
    "bo_params = model_bo.max[\"params\"]\n",
    "\n",
    "# Update the parameter dictionary with the best parameters.\n",
    "parameters[\"max_depth\"] = int(bo_params[\"max_depth\"])\n",
    "parameters[\"min_child_weight\"] = int(bo_params[\"min_child_weight\"])\n",
    "parameters[\"colsample_bytree\"] = bo_params[\"colsample_bytree\"]\n",
    "parameters[\"reg_alpha\"] = bo_params[\"alpha_vals\"]\n",
    "parameters[\"reg_lambda\"] = bo_params[\"lambda_vals\"]\n",
    "parameters[\"min_split_loss\"] = bo_params[\"gamma_vals\"]\n",
    "parameters[\"eta\"] = bo_params[\"eta\"]"
   ]
  },
  {
   "cell_type": "code",
   "execution_count": 9,
   "metadata": {},
   "outputs": [
    {
     "name": "stdout",
     "output_type": "stream",
     "text": [
      "[0]\tBoosting_Rounds_Test-logloss:0.38312\n",
      "[1]\tBoosting_Rounds_Test-logloss:0.27855\n",
      "[2]\tBoosting_Rounds_Test-logloss:0.23015\n",
      "[3]\tBoosting_Rounds_Test-logloss:0.19437\n",
      "[4]\tBoosting_Rounds_Test-logloss:0.17532\n",
      "[5]\tBoosting_Rounds_Test-logloss:0.16028\n",
      "[6]\tBoosting_Rounds_Test-logloss:0.15140\n",
      "[7]\tBoosting_Rounds_Test-logloss:0.15148\n",
      "[8]\tBoosting_Rounds_Test-logloss:0.15015\n",
      "[9]\tBoosting_Rounds_Test-logloss:0.14424\n",
      "[10]\tBoosting_Rounds_Test-logloss:0.13759\n",
      "[11]\tBoosting_Rounds_Test-logloss:0.13675\n",
      "[12]\tBoosting_Rounds_Test-logloss:0.13649\n",
      "[13]\tBoosting_Rounds_Test-logloss:0.13929\n",
      "[14]\tBoosting_Rounds_Test-logloss:0.14200\n",
      "[15]\tBoosting_Rounds_Test-logloss:0.14342\n",
      "[16]\tBoosting_Rounds_Test-logloss:0.14417\n",
      "[17]\tBoosting_Rounds_Test-logloss:0.14522\n",
      "[18]\tBoosting_Rounds_Test-logloss:0.14754\n",
      "[19]\tBoosting_Rounds_Test-logloss:0.14760\n",
      "[20]\tBoosting_Rounds_Test-logloss:0.15068\n",
      "[21]\tBoosting_Rounds_Test-logloss:0.15151\n",
      "[22]\tBoosting_Rounds_Test-logloss:0.15416\n",
      "[23]\tBoosting_Rounds_Test-logloss:0.15196\n",
      "[24]\tBoosting_Rounds_Test-logloss:0.15096\n",
      "[25]\tBoosting_Rounds_Test-logloss:0.14937\n",
      "[26]\tBoosting_Rounds_Test-logloss:0.14890\n",
      "[27]\tBoosting_Rounds_Test-logloss:0.14671\n",
      "[28]\tBoosting_Rounds_Test-logloss:0.14670\n",
      "[29]\tBoosting_Rounds_Test-logloss:0.14931\n",
      "[30]\tBoosting_Rounds_Test-logloss:0.15043\n",
      "[31]\tBoosting_Rounds_Test-logloss:0.14961\n",
      "[32]\tBoosting_Rounds_Test-logloss:0.14856\n",
      "[33]\tBoosting_Rounds_Test-logloss:0.14923\n",
      "[34]\tBoosting_Rounds_Test-logloss:0.14748\n",
      "[35]\tBoosting_Rounds_Test-logloss:0.14874\n",
      "[36]\tBoosting_Rounds_Test-logloss:0.14915\n",
      "[37]\tBoosting_Rounds_Test-logloss:0.14922\n"
     ]
    }
   ],
   "source": [
    "# Train a model using tuned parameters to find the ideal number of boosting rounds.\n",
    "boost_rnds_model = xgb.train(\n",
    "    parameters,\n",
    "    d_train,\n",
    "    num_boost_round = 999,\n",
    "    evals = [(d_val, \"Boosting_Rounds_Test\")],\n",
    "    early_stopping_rounds = 25,\n",
    ")"
   ]
  },
  {
   "cell_type": "code",
   "execution_count": 10,
   "metadata": {},
   "outputs": [],
   "source": [
    "# Re-train model with ideal number of boosting rounds.\n",
    "tuned_model = xgb.train(\n",
    "    parameters,\n",
    "    d_train,\n",
    "    num_boost_round = boost_rnds_model.best_iteration + 1,\n",
    ")"
   ]
  },
  {
   "cell_type": "code",
   "execution_count": 11,
   "metadata": {},
   "outputs": [],
   "source": [
    "# Use model to make a prediction of the testing set.\n",
    "y_pred = tuned_model.predict(d_test)"
   ]
  },
  {
   "cell_type": "code",
   "execution_count": 12,
   "metadata": {},
   "outputs": [],
   "source": [
    "# Convert prediction scores to classes.\n",
    "y_pred[y_pred > 0.8] = 1\n",
    "y_pred[y_pred <= 0.8] = 0"
   ]
  },
  {
   "cell_type": "code",
   "execution_count": 13,
   "metadata": {},
   "outputs": [
    {
     "data": {
      "text/plain": [
       "93.12638580931264"
      ]
     },
     "execution_count": 13,
     "metadata": {},
     "output_type": "execute_result"
    }
   ],
   "source": [
    "# Get the accuracy score of our prediction.\n",
    "accuracy_score(y_pred, y_test) * 100"
   ]
  },
  {
   "cell_type": "code",
   "execution_count": 14,
   "metadata": {},
   "outputs": [
    {
     "data": {
      "image/png": "[encoded data removed]",
      "text/plain": [
       "<Figure size 640x480 with 2 Axes>"
      ]
     },
     "metadata": {},
     "output_type": "display_data"
    }
   ],
   "source": [
    "# Plot a confusion matrix of the prediction.\n",
    "conf_matrix = confusion_matrix(y_test, y_pred)\n",
    "cofn_plt = ConfusionMatrixDisplay(confusion_matrix = conf_matrix)\n",
    "cofn_plt.plot()\n",
    "plt.show()"
   ]
  },
  {
   "cell_type": "code",
   "execution_count": 15,
   "metadata": {},
   "outputs": [],
   "source": [
    "# Save the tuned model.\n",
    "tuned_model.save_model(\"tuned_model.json\")"
   ]
  }
 ],
 "metadata": {
  "kernelspec": {
   "display_name": "Fire_Detection",
   "language": "python",
   "name": "python3"
  },
  "language_info": {
   "codemirror_mode": {
    "name": "ipython",
    "version": 3
   },
   "file_extension": ".py",
   "mimetype": "text/x-python",
   "name": "python",
   "nbconvert_exporter": "python",
   "pygments_lexer": "ipython3",
   "version": "3.11.3"
  },
  "orig_nbformat": 4
 },
 "nbformat": 4,
 "nbformat_minor": 2
}
